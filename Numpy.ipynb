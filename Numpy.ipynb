{
 "cells": [
  {
   "cell_type": "markdown",
   "metadata": {
    "id": "1FKZG8aIEUQx"
   },
   "source": [
    "# **NUMPY**\n"
   ]
  },
  {
   "cell_type": "markdown",
   "metadata": {
    "id": "-BwNon_PFhdT"
   },
   "source": [
    "![numpylogo.svg](data:image/svg+xml;base64,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)"
   ]
  },
  {
   "cell_type": "markdown",
   "metadata": {
    "id": "kqFIn56zFjiO"
   },
   "source": [
    "**NumPy** es una librería de Python especializada en el **cálculo numérico y el análisis de datos, especialmente para un gran volumen de datos**.\n",
    "\n",
    "Su **eficiencia** se basa en usar a nivel interno el **calculo matricial** (**arrays para 1-D o 2-D**, vectores o matrices)\n",
    "\n",
    "Para usar la libreria debemos importarla:"
   ]
  },
  {
   "cell_type": "code",
   "execution_count": null,
   "metadata": {
    "id": "s5IfcnmpILdH"
   },
   "outputs": [],
   "source": [
    "# \"np\" es un alias corto\n",
    "import numpy as np"
   ]
  },
  {
   "cell_type": "markdown",
   "metadata": {
    "id": "OqXG0cQdHGql"
   },
   "source": [
    "\\"
   ]
  },
  {
   "cell_type": "markdown",
   "metadata": {
    "id": "gweVA3gGFjZe"
   },
   "source": [
    "## **Creación de arrays**\n",
    "\n",
    "Los arrays de NumPy son secuencias/tablas de datos del mismo tipo (en realidad no estan limitados a 1D/2D). Se pueden crear de varias maneras:\n",
    "\n",
    "* **A partir de una lista o tupla:** especificando los elementos del array."
   ]
  },
  {
   "cell_type": "code",
   "execution_count": null,
   "metadata": {
    "colab": {
     "base_uri": "https://localhost:8080/"
    },
    "id": "slTCdTpREUQ2",
    "outputId": "502fc93f-8963-4761-bfb3-5409389893ab"
   },
   "outputs": [],
   "source": [
    "array_lista = np.array([1, 2, 3, 4, 5])\n",
    "array_tupla = np.array((6, 7, 8, 9, 10))\n",
    "\n",
    "print(array_lista)\n",
    "\n",
    "print(array_tupla)\n"
   ]
  },
  {
   "cell_type": "code",
   "execution_count": null,
   "metadata": {},
   "outputs": [],
   "source": [
    "type(array_tupla)"
   ]
  },
  {
   "cell_type": "markdown",
   "metadata": {
    "id": "kXWKJ3f6EUQ4"
   },
   "source": [
    "* **A partir de una secuencia de números:**\n",
    "Numpy dispone de métodos que nos permiten crear secuencias en un rango (similar a lo visto en las listas de Python), secuencias equiespaciadas, en escala logarítmica..."
   ]
  },
  {
   "cell_type": "code",
   "execution_count": null,
   "metadata": {
    "colab": {
     "base_uri": "https://localhost:8080/"
    },
    "id": "Yn9imKeWEUQ4",
    "outputId": "f30a1b55-4d27-4c69-d09e-13217e389e38"
   },
   "outputs": [],
   "source": [
    "# array a partir de un rango <np.arange()>\n",
    "array_rango = np.arange(1, 11)\n",
    "print(f'Array con rango 1-11: {array_rango}', end='\\n'*2)\n",
    "\n",
    "# array entre 0 y 10 con 5 elementos equiespaciados\n",
    "array_linspace = np.linspace(0, 10, num=5)\n",
    "print(f'Array secuencia equiespaciada: {array_linspace}', end='\\n'*2)\n",
    "\n",
    "# array escala logaritmica de 1 (10 elevado a cero) a 10000 (10 elevado a 4), con 5 elementos\n",
    "array_logspace = np.logspace(0, 4, num=5)\n",
    "print(f'Array escala logarítmica: {array_logspace}', end='\\n'*2)\n",
    "\n"
   ]
  },
  {
   "cell_type": "markdown",
   "metadata": {
    "id": "g7YrrkGVMQs-"
   },
   "source": [
    "* **A partir de determinados métodos:**\n",
    "Tambien existen métodos para crear arrays con determinados valores útiles a la hora de calcular:"
   ]
  },
  {
   "cell_type": "code",
   "execution_count": null,
   "metadata": {
    "colab": {
     "base_uri": "https://localhost:8080/"
    },
    "id": "V3pXZnQ-MP34",
    "outputId": "c3b7c8e1-0862-4a7a-d690-80c75b29f01f"
   },
   "outputs": [],
   "source": [
    "# np.zeros()\n",
    "print(f'Array de 5 ceros: {np.zeros(5)}', end='\\n'*2)\n",
    "\n",
    "# np.ones()\n",
    "print(f'Array de 15 unos: {np.ones(15)}', end='\\n'*2)\n",
    "\n"
   ]
  },
  {
   "cell_type": "markdown",
   "metadata": {
    "id": "mPVkC1DANWdj"
   },
   "source": [
    "De forma similar podemos **crear arrays de 2 dimensiones (matrices)**. Para crear un array 2D especificando su contenido utilizamos listas anidadas, veamoslo:"
   ]
  },
  {
   "cell_type": "code",
   "execution_count": null,
   "metadata": {
    "colab": {
     "base_uri": "https://localhost:8080/"
    },
    "id": "DWrWOOXhOan5",
    "outputId": "e9d7cc79-81cc-4569-ce4f-05689170f405"
   },
   "outputs": [],
   "source": [
    "mi_tabla = np.array([[1,2,3], [4,5,6], [7,8,9]])\n",
    "\n",
    "print(mi_tabla)\n",
    "\n",
    "print(type(mi_tabla))"
   ]
  },
  {
   "cell_type": "markdown",
   "metadata": {
    "id": "Azp6_VEDNWaY"
   },
   "source": [
    " **Aquellos métodos que lo permitan se puedan utilizar también para crear matrices**. El argumento entre parentesis serán las dimensiones, filas columnas, entre parentesis y separados por coma:"
   ]
  },
  {
   "cell_type": "code",
   "execution_count": null,
   "metadata": {
    "colab": {
     "base_uri": "https://localhost:8080/"
    },
    "id": "pI6YZVe4PxNQ",
    "outputId": "6ff8b427-49a0-423b-908d-c62be8869c8e"
   },
   "outputs": [],
   "source": [
    "# matriz de ceros de 2x3\n",
    "print('Matriz de ceros (2x3):')\n",
    "print(np.zeros((2,3)), end='\\n'*2)\n",
    "\n",
    "# matriz de unos de 3x3\n",
    "print('Matriz de unos (3x3):')\n",
    "print(np.ones((3,3)), end='\\n'*2)"
   ]
  },
  {
   "cell_type": "markdown",
   "metadata": {
    "id": "gY3IkKfTR-G8"
   },
   "source": [
    "Los **arrays** tienen el **atributo \"shape\"** que **nos devuelve sus dimensiones**:"
   ]
  },
  {
   "cell_type": "code",
   "execution_count": null,
   "metadata": {
    "colab": {
     "base_uri": "https://localhost:8080/"
    },
    "id": "v0ZZEYscR2K4",
    "outputId": "a83aaa72-9ab0-4744-ad7c-3eb8fc848837"
   },
   "outputs": [],
   "source": [
    "# ejplo 1D\n",
    "print(array_linspace.shape)\n",
    "\n",
    "# ejplo 2D\n",
    "print(mi_tabla.shape)"
   ]
  },
  {
   "cell_type": "code",
   "execution_count": null,
   "metadata": {
    "colab": {
     "base_uri": "https://localhost:8080/"
    },
    "id": "yqA4YO6f7zAT",
    "outputId": "c44fc63f-aaf6-4ca8-8e84-57ca3ebfc0c3"
   },
   "outputs": [],
   "source": [
    "array_linspace.size"
   ]
  },
  {
   "cell_type": "markdown",
   "metadata": {
    "id": "VUYpB7pBNWQU"
   },
   "source": [
    "\\"
   ]
  },
  {
   "cell_type": "markdown",
   "metadata": {
    "id": "ULApdZA-EUQ5"
   },
   "source": [
    "## **Indexing y slicing**\n",
    "\n",
    "En los arrays de NumPy se pueden acceder a sus elementos de forma similar a las listas de Python.\n",
    "\n",
    "* **Indexing:** a partir de su posición"
   ]
  },
  {
   "cell_type": "code",
   "execution_count": null,
   "metadata": {
    "colab": {
     "base_uri": "https://localhost:8080/"
    },
    "id": "J8PtEuBxEUQ6",
    "outputId": "a7aecfdc-a654-464e-dcf2-2ef444338361"
   },
   "outputs": [],
   "source": [
    "array = np.array([1, 2, 3, 4, 5])\n",
    "\n",
    "print(array[0])\n",
    "\n",
    "print(array[-1])\n"
   ]
  },
  {
   "cell_type": "markdown",
   "metadata": {
    "id": "P0t0g4uWEUQ6"
   },
   "source": [
    "* **Slicing:** extraer un rango de elementos"
   ]
  },
  {
   "cell_type": "code",
   "execution_count": null,
   "metadata": {
    "colab": {
     "base_uri": "https://localhost:8080/"
    },
    "id": "Y6FNg1QZEUQ6",
    "outputId": "943dc4df-9b85-4d4e-a248-745a8b550c47"
   },
   "outputs": [],
   "source": [
    "array = np.array([1, 2, 3, 4, 5])\n",
    "\n",
    "print(array[1:3])\n",
    "\n",
    "print(array[2:])\n"
   ]
  },
  {
   "cell_type": "code",
   "execution_count": null,
   "metadata": {},
   "outputs": [],
   "source": []
  },
  {
   "cell_type": "markdown",
   "metadata": {
    "id": "XeCguFAPEUQ7"
   },
   "source": [
    "## **Método reshape**\n",
    "\n",
    "La función `reshape()` permite cambiar la \"forma\" (distribución filas/columnas) de un array."
   ]
  },
  {
   "cell_type": "code",
   "execution_count": null,
   "metadata": {
    "colab": {
     "base_uri": "https://localhost:8080/"
    },
    "id": "MS-q6kQlEUQ7",
    "outputId": "8d8d8617-9656-4b6a-e96e-81993cbe2ee7"
   },
   "outputs": [],
   "source": [
    "array = np.array([1, 2, 3, 4, 5,6])\n",
    "\n",
    "new_array = array.reshape(2, 3)\n",
    "\n",
    "print(new_array)\n"
   ]
  },
  {
   "cell_type": "code",
   "execution_count": null,
   "metadata": {},
   "outputs": [],
   "source": []
  },
  {
   "cell_type": "markdown",
   "metadata": {
    "id": "JO1N2mrXUXxE"
   },
   "source": [
    "\\"
   ]
  },
  {
   "cell_type": "markdown",
   "metadata": {
    "id": "fGX0uyKTEUQ7"
   },
   "source": [
    "## **Operaciones con arrays**\n",
    "\n",
    "Los arrays de NumPy se pueden operar de forma similar a los vectores (1D) y matrices (2D).\n",
    "\n",
    "Además estan definidas para obtener los resultados que nosotros esperariamos a la hora de calcular (ejplo columna \"nº unidades vendidas\" por columna \"precio unitario\")\n",
    "\n",
    "Así para las operaciones aritmeticas:"
   ]
  },
  {
   "cell_type": "code",
   "execution_count": null,
   "metadata": {
    "colab": {
     "base_uri": "https://localhost:8080/"
    },
    "id": "FyOuT_neEUQ8",
    "outputId": "56fcefa9-f4b3-49df-a464-f01314fc7818"
   },
   "outputs": [],
   "source": [
    "array1 = np.array([1, 2, 3])\n",
    "array2 = np.array([4, 5, 6])\n",
    "\n",
    "# Las operaciones se realizan elemento a elemento\n",
    "\n",
    "print(array1 + array2)\n",
    "\n",
    "# el producto matricial en si se obtiene con el método de numpy <np.dot()>\n",
    "print(array1 * array2)\n",
    "\n",
    "print(array1 / array2)\n"
   ]
  },
  {
   "cell_type": "code",
   "execution_count": null,
   "metadata": {},
   "outputs": [],
   "source": []
  },
  {
   "cell_type": "markdown",
   "metadata": {
    "id": "xrq20sePWsdy"
   },
   "source": [
    "De la misma forma si queremos duplicar las cantidades de un pedido, multiplicaremos por 2 la columna de unidades vendidas:"
   ]
  },
  {
   "cell_type": "code",
   "execution_count": null,
   "metadata": {
    "colab": {
     "base_uri": "https://localhost:8080/"
    },
    "id": "yH7Pu2cNW6Nv",
    "outputId": "708a8595-0d41-4c71-9ed2-9faeaf419b39"
   },
   "outputs": [],
   "source": [
    "pedidos = np.array([5,14,8,20])\n",
    "\n",
    "nuevo_pedido = 2*pedidos\n",
    "\n",
    "print(nuevo_pedido)"
   ]
  },
  {
   "cell_type": "markdown",
   "metadata": {
    "id": "1IzVJzV5XhV0"
   },
   "source": [
    "De forma similar podemos sumar un numero y un array, relizandose la suma (operación en general), con todos los elementos del array (esta técnica se denomina **broadcasting**)"
   ]
  },
  {
   "cell_type": "code",
   "execution_count": null,
   "metadata": {
    "colab": {
     "base_uri": "https://localhost:8080/"
    },
    "id": "iF-RTcqi_Wc9",
    "outputId": "fd43b772-32e3-433a-d492-51fb33e16b0b"
   },
   "outputs": [],
   "source": [
    "pedidos"
   ]
  },
  {
   "cell_type": "code",
   "execution_count": null,
   "metadata": {
    "colab": {
     "base_uri": "https://localhost:8080/"
    },
    "id": "gZp71wfmYOiE",
    "outputId": "2bd61e0a-2195-4c92-b4f9-850424d3ba9e"
   },
   "outputs": [],
   "source": [
    "100 + pedidos"
   ]
  },
  {
   "cell_type": "code",
   "execution_count": null,
   "metadata": {
    "colab": {
     "base_uri": "https://localhost:8080/"
    },
    "id": "QaKRzqTUYASI",
    "outputId": "61d22707-3c10-4a93-d523-0633811e6a03"
   },
   "outputs": [],
   "source": [
    "100 + np.ones((3,3))"
   ]
  },
  {
   "cell_type": "code",
   "execution_count": null,
   "metadata": {
    "colab": {
     "base_uri": "https://localhost:8080/"
    },
    "id": "SIvBn4Dp_-zv",
    "outputId": "fdb7865e-92fc-468e-c436-5664178acc2a"
   },
   "outputs": [],
   "source": [
    "2* np.ones((3,3,))"
   ]
  },
  {
   "cell_type": "code",
   "execution_count": null,
   "metadata": {},
   "outputs": [],
   "source": []
  },
  {
   "cell_type": "markdown",
   "metadata": {},
   "source": [
    "## Ejercicio 1\n",
    "\n",
    "Tenemos los datos de precios de 3 productos en 4 localidades, guardado en una matriz (array-2D) de 4x3. Pero se nos ha olvidado aplicar el IGIC (7%).\n",
    "Calcular la matriz con los nuevos precios."
   ]
  },
  {
   "cell_type": "code",
   "execution_count": null,
   "metadata": {},
   "outputs": [],
   "source": [
    "# datos de partida\n",
    "precios_sin = np.array([[45.20, 87.50, 46.27], [85.26, 37.20, 41.21], [95.20, 34.12, 78.32], [49.20, 34.36, 62.05]])\n",
    "\n",
    "\n",
    "# ESCRIBIR EL CÓDIGO\n",
    "\n",
    "\n"
   ]
  },
  {
   "cell_type": "code",
   "execution_count": null,
   "metadata": {},
   "outputs": [],
   "source": []
  },
  {
   "cell_type": "code",
   "execution_count": null,
   "metadata": {},
   "outputs": [],
   "source": []
  },
  {
   "cell_type": "code",
   "execution_count": null,
   "metadata": {},
   "outputs": [],
   "source": []
  },
  {
   "cell_type": "markdown",
   "metadata": {},
   "source": [
    "## Ejercicio 2\n",
    "\n",
    "Tenemos en otra matriz el nº de unidades vendidas en cada localidad de esos productos (misma orientación columnas son productos y filas localidades (4x3). Junto con el resultado del ejercicio anterior calcular las ventas obtenidas (euros) de esos productos en dichas localidades."
   ]
  },
  {
   "cell_type": "code",
   "execution_count": null,
   "metadata": {},
   "outputs": [],
   "source": [
    "# datos de partida\n",
    "unidades_vendidas = np.array([[125, 232, 87], [103, 215, 151], [98, 194, 176], [152, 184, 206]])\n",
    "\n",
    "\n",
    "# ESCRIBIR EL CÓDIGO\n",
    "\n",
    "\n"
   ]
  },
  {
   "cell_type": "code",
   "execution_count": null,
   "metadata": {},
   "outputs": [],
   "source": []
  },
  {
   "cell_type": "code",
   "execution_count": null,
   "metadata": {},
   "outputs": [],
   "source": []
  },
  {
   "cell_type": "markdown",
   "metadata": {
    "id": "c3XfwdZ5EUQ8"
   },
   "source": [
    "## **Añadir y eliminar elementos de array**\n",
    "\n",
    "Los elementos de un array se pueden añadir o eliminar de forma similar a las listas de Python.\n",
    "\n",
    "* **Añadir elementos:** método de numpy <append()>"
   ]
  },
  {
   "cell_type": "code",
   "execution_count": null,
   "metadata": {
    "colab": {
     "base_uri": "https://localhost:8080/"
    },
    "id": "VWLXsqUYEUQ8",
    "outputId": "0da12ef0-d3b2-4d91-bc13-b2a01d647e6f"
   },
   "outputs": [],
   "source": [
    "array = np.array([1, 2, 3])\n",
    "\n",
    "array = np.append(array, 4)\n",
    "\n",
    "print(array)\n"
   ]
  },
  {
   "cell_type": "code",
   "execution_count": null,
   "metadata": {
    "id": "Ut1unbfJkypR"
   },
   "outputs": [],
   "source": []
  },
  {
   "cell_type": "markdown",
   "metadata": {
    "id": "ddp87_5kEUQ8"
   },
   "source": [
    "* **Eliminar elementos:** método <delete()> especificando la posición del elemento a eliminar"
   ]
  },
  {
   "cell_type": "code",
   "execution_count": null,
   "metadata": {
    "colab": {
     "base_uri": "https://localhost:8080/"
    },
    "id": "dAVbIGwfEUQ9",
    "outputId": "b09c8c40-c570-4179-9a06-fe0892867b62"
   },
   "outputs": [],
   "source": [
    "array = np.array([1, 2, 3, 4, 5])\n",
    "\n",
    "array = np.delete(array, 2)\n",
    "\n",
    "print(array)\n",
    "# [1 2 4 5]"
   ]
  },
  {
   "cell_type": "markdown",
   "metadata": {
    "id": "dzS1xm2Ixxza"
   },
   "source": [
    "\\\n"
   ]
  },
  {
   "cell_type": "markdown",
   "metadata": {
    "id": "s6lH3IXnxxvo"
   },
   "source": [
    "## **Uso de funciones en arrays**\n",
    "\n",
    "NumPy proporciona una gran variedad de funciones (de cálculo, trigonométricas, estadísticas, etc.) para realizar operaciones sobre arrays. Algunas de las funciones más comunes son:\n",
    "\n",
    "* **sum():** Devuelve la suma de todos los elementos de un array.\n",
    "* **mean():** Devuelve la media de todos los elementos de un array.\n",
    "* **std():** Devuelve la desviación estándar de todos los elementos de un array.\n",
    "* **min():** Devuelve el valor mínimo de un array.\n",
    "* **max():** Devuelve el valor máximo de un array.\n",
    "\n",
    "Como vemos estas funciones estadísticas resumen en un valor el array (su suma, media...)\n",
    "\n",
    "Por ejemplo, para calcular la suma de los elementos de un array, podemos utilizar la siguiente función:"
   ]
  },
  {
   "cell_type": "code",
   "execution_count": null,
   "metadata": {
    "colab": {
     "base_uri": "https://localhost:8080/"
    },
    "id": "CiQT7BmNyOEc",
    "outputId": "3384c08c-778a-48fc-c668-b03715507551"
   },
   "outputs": [],
   "source": [
    "array = np.array([1, 2, 3, 4, 5])\n",
    "\n",
    "suma = np.sum(array)\n",
    "\n",
    "print(suma)"
   ]
  },
  {
   "cell_type": "code",
   "execution_count": null,
   "metadata": {},
   "outputs": [],
   "source": []
  },
  {
   "cell_type": "markdown",
   "metadata": {
    "id": "KBq5FOhrxxrr"
   },
   "source": [
    "Otras funciones se aplican a cada uno de los elementos del array, como las operaciones raiz cuadrada o logaritmo:\n",
    "\n",
    "* **power():** Eleva los elementos de un array a la potencia o potencias indicadas\n",
    "* **sqrt():** Devuelve la raiz cuadrada de todos los elementos de un array. Da error si algunos de los elementos es negativo\n",
    "* **log():** Devuelve el logaritmo neperiano (base \"e\") de todos los elementos de un array.\n",
    "\n",
    "\n"
   ]
  },
  {
   "cell_type": "code",
   "execution_count": null,
   "metadata": {
    "colab": {
     "base_uri": "https://localhost:8080/"
    },
    "id": "WYL6jkySzR0F",
    "outputId": "04c2e47d-f7af-4862-ce52-b7837b04d09f"
   },
   "outputs": [],
   "source": [
    "serie = np.arange(1,11)\n",
    "\n",
    "cuadrados = np.power(serie, 2)\n",
    "print(cuadrados, end='\\n'*2)\n",
    "\n",
    "print(np.sqrt([9,36,64]))"
   ]
  },
  {
   "cell_type": "code",
   "execution_count": null,
   "metadata": {
    "colab": {
     "base_uri": "https://localhost:8080/"
    },
    "id": "l5raukeGC3fI",
    "outputId": "584ade83-3f5b-44f2-8a36-1e25645c0e6a"
   },
   "outputs": [],
   "source": [
    "np.log(np.exp(1))"
   ]
  },
  {
   "cell_type": "code",
   "execution_count": null,
   "metadata": {
    "colab": {
     "base_uri": "https://localhost:8080/"
    },
    "id": "UVpolfzRDXzj",
    "outputId": "a655391e-b415-46de-a3db-358a1d6c68bf"
   },
   "outputs": [],
   "source": [
    "np.exp(1)"
   ]
  },
  {
   "cell_type": "code",
   "execution_count": null,
   "metadata": {
    "colab": {
     "base_uri": "https://localhost:8080/"
    },
    "id": "NijYM8K4Dj1Y",
    "outputId": "35b3d948-7780-4688-be7f-48a314c4c2f7"
   },
   "outputs": [],
   "source": [
    "np.e"
   ]
  },
  {
   "cell_type": "code",
   "execution_count": null,
   "metadata": {},
   "outputs": [],
   "source": [
    "np.pi"
   ]
  },
  {
   "cell_type": "markdown",
   "metadata": {},
   "source": [
    "## Ejercicio 3\n",
    "\n",
    "Con los datos de ventas obtenidas del ejercicio 2 (donde las filas eran las 4 localidades y las columnas los 3 productos), calcular:\n",
    "\n",
    "- la media de ventas por localidad\n",
    "- la media de ventas por producto\n",
    "\n",
    "**PISTA**: buscar en internet en la ayuda de **\"numpy.mean()\"** que párametro de los que tiene debemos utilizar, y los valores que le debemos dar"
   ]
  },
  {
   "cell_type": "code",
   "execution_count": null,
   "metadata": {},
   "outputs": [],
   "source": [
    "# datos de partida: llamar a la variable (nombre que le pusiste) resultado del ejercicio 2\n",
    "\n",
    "ventas\n"
   ]
  },
  {
   "cell_type": "code",
   "execution_count": null,
   "metadata": {},
   "outputs": [],
   "source": [
    "# ESCRIBIR EL CÓDIGO\n",
    "\n",
    "\n"
   ]
  },
  {
   "cell_type": "code",
   "execution_count": null,
   "metadata": {},
   "outputs": [],
   "source": []
  },
  {
   "cell_type": "code",
   "execution_count": null,
   "metadata": {},
   "outputs": [],
   "source": []
  },
  {
   "cell_type": "code",
   "execution_count": null,
   "metadata": {},
   "outputs": [],
   "source": [
    "# ESCRIBIR EL CÓDIGO\n",
    "\n",
    "# axis=1 recorre las filas, sería media por localidad\n",
    "media_localidad = np.mean(ventas, axis=1)\n",
    "\n",
    "media_localidad\n",
    "\n"
   ]
  },
  {
   "cell_type": "code",
   "execution_count": null,
   "metadata": {},
   "outputs": [],
   "source": []
  },
  {
   "cell_type": "code",
   "execution_count": null,
   "metadata": {},
   "outputs": [],
   "source": []
  },
  {
   "cell_type": "markdown",
   "metadata": {
    "id": "oiYM398ixxnP"
   },
   "source": [
    "\\"
   ]
  },
  {
   "cell_type": "markdown",
   "metadata": {
    "id": "XRrOvDPuxxjb"
   },
   "source": [
    "## **Ordenar arrays**\n",
    "\n",
    "Los arrays de NumPy pueden ser ordenados de manera ascendente o descendente utilizando las **funciones `sort()` y `argsort()`**.\n",
    "\n",
    "La **función `sort()`** **ordena los elementos de un array de manera inplace, es decir, el array original se modifica**. La función **`argsort()` devuelve un array con los índices de los elementos ordenados**, sin modificar el array original.\n",
    "\n",
    "Por ejemplo, para ordenar un array de manera ascendente, podemos utilizar la siguiente función:"
   ]
  },
  {
   "cell_type": "code",
   "execution_count": null,
   "metadata": {
    "colab": {
     "base_uri": "https://localhost:8080/"
    },
    "id": "piTbLng_2NoB",
    "outputId": "2c0e815f-6466-48a5-ebb1-60d077f155bd"
   },
   "outputs": [],
   "source": [
    "array = np.array([5, 2, 4, 3, 1])\n",
    "\n",
    "array.sort()       # OJO: realiza el cambio (ordenación) en la propia estructura\n",
    "\n",
    "print(array)"
   ]
  },
  {
   "cell_type": "code",
   "execution_count": null,
   "metadata": {},
   "outputs": [],
   "source": []
  },
  {
   "cell_type": "code",
   "execution_count": null,
   "metadata": {
    "colab": {
     "base_uri": "https://localhost:8080/"
    },
    "id": "C3qfkZ5z2inb",
    "outputId": "76f8e580-c4e7-4f79-afe9-ce48f280f660"
   },
   "outputs": [],
   "source": [
    "print(np.argsort([5,2]))"
   ]
  },
  {
   "cell_type": "code",
   "execution_count": null,
   "metadata": {
    "id": "vyJRcoHj-fuZ"
   },
   "outputs": [],
   "source": []
  },
  {
   "cell_type": "markdown",
   "metadata": {
    "id": "x4NJW1QmW07u"
   },
   "source": [
    "El método 'sort' ordena solo de forma ascendente. **Para hacerlo descendente** tenmos que recurrir a técnicas de slicing mas avanzadas:"
   ]
  },
  {
   "cell_type": "code",
   "execution_count": null,
   "metadata": {
    "colab": {
     "base_uri": "https://localhost:8080/"
    },
    "id": "tksh9-QzXG-U",
    "outputId": "b8ea34a9-096a-46d2-ecb9-54e41a0ced6f"
   },
   "outputs": [],
   "source": [
    "descendente = array[::-1]\n",
    "\n",
    "print(descendente)"
   ]
  },
  {
   "cell_type": "code",
   "execution_count": null,
   "metadata": {
    "colab": {
     "base_uri": "https://localhost:8080/"
    },
    "id": "apisewPIENs9",
    "outputId": "82071d03-464e-4cf0-8522-a9386adb0536"
   },
   "outputs": [],
   "source": [
    "copia = array[:]\n",
    "\n",
    "copia"
   ]
  },
  {
   "cell_type": "markdown",
   "metadata": {
    "id": "zOz8IJhcxxfZ"
   },
   "source": [
    "Los arrays disponen de los métodos `argmin()` y `argmax()`, que devuelven la posición del valor mínimo y máximo respectivamente del array:"
   ]
  },
  {
   "cell_type": "code",
   "execution_count": null,
   "metadata": {
    "colab": {
     "base_uri": "https://localhost:8080/"
    },
    "id": "nAUSrIvXGeLX",
    "outputId": "eed3c65d-521d-4435-a042-c16356eb14b0"
   },
   "outputs": [],
   "source": [
    "array"
   ]
  },
  {
   "cell_type": "code",
   "execution_count": null,
   "metadata": {
    "colab": {
     "base_uri": "https://localhost:8080/"
    },
    "id": "DEqpqdU64YF2",
    "outputId": "f2bbb6d5-3467-41a3-8fa9-bbc990114930"
   },
   "outputs": [],
   "source": [
    "# recordar que esta ordenado\n",
    "print(array.argmin())\n",
    "\n",
    "print(array.argmax())"
   ]
  },
  {
   "cell_type": "code",
   "execution_count": null,
   "metadata": {
    "id": "EG3KOOIL7_zl"
   },
   "outputs": [],
   "source": []
  },
  {
   "cell_type": "markdown",
   "metadata": {
    "id": "oFofZ_pYxxa-"
   },
   "source": [
    "\\"
   ]
  },
  {
   "cell_type": "markdown",
   "metadata": {
    "id": "ai_eIs5IxxV8"
   },
   "source": [
    "## Unir, concatenar arrays\n",
    "\n",
    "En ocasiones nos puede ser util unir arrays según una disposición o eje (hztal, vtcal).\n",
    "\n",
    "Para ello podemos hacer uso de los métodos de numpy **`vstack()` y `hstack()`**\n",
    "\n",
    "**Por ejemplo** si tenemos datos en 4 columnas de las ventas por trimestre (columna por trimestre) de un año en unas localidades, y queremos añadir los datos en el mismo tiempo de otras localidades, guardadas en otro array, **apilaremos los datos en vertical <vstack()>**:"
   ]
  },
  {
   "cell_type": "code",
   "execution_count": null,
   "metadata": {
    "id": "2d3nQyrJ7Lvl"
   },
   "outputs": [],
   "source": [
    "arr_2021T_Caceres = [[29577.19, 37072.47, 19332.3 , 35156.42],\n",
    "                     [30047.41, 17334.37, 25796.77, 30006.62],\n",
    "                     [25213.62, 28823.39, 28119.83, 31945.72]]\n",
    "\n"
   ]
  },
  {
   "cell_type": "code",
   "execution_count": null,
   "metadata": {
    "id": "6KYkGCzL809y"
   },
   "outputs": [],
   "source": [
    "arr_2021T_Badajoz = [[24855.06, 35049.73, 31627.14, 31089.02],\n",
    "                     [24870.18, 23416.85, 18894.29, 19853.76],\n",
    "                      [26835.76, 22758.85, 28985.49, 31674.78]]\n"
   ]
  },
  {
   "cell_type": "code",
   "execution_count": null,
   "metadata": {
    "colab": {
     "base_uri": "https://localhost:8080/"
    },
    "id": "eUVPdPClGq9d",
    "outputId": "688d5483-e8a9-4fa8-f99f-a6750458d24a"
   },
   "outputs": [],
   "source": []
  },
  {
   "cell_type": "code",
   "execution_count": null,
   "metadata": {
    "id": "pLDzMEJOBo1e"
   },
   "outputs": [],
   "source": [
    "datos_2021T_Caceres = np.array(arr_2021T_Caceres)\n",
    "\n",
    "datos_2021T_Badajoz = np.array(arr_2021T_Badajoz)"
   ]
  },
  {
   "cell_type": "code",
   "execution_count": null,
   "metadata": {
    "colab": {
     "base_uri": "https://localhost:8080/"
    },
    "id": "Md6MYvPX7n1f",
    "outputId": "2b8b23a8-832d-44b2-b108-addf1f5e7244"
   },
   "outputs": [],
   "source": [
    "# como primer argumento se indican los arrays a unir en forma de tupla\n",
    "datos_2021T_Extremadura = np.vstack((datos_2021T_Caceres, datos_2021T_Badajoz))\n",
    "\n",
    "print(datos_2021T_Extremadura)"
   ]
  },
  {
   "cell_type": "code",
   "execution_count": null,
   "metadata": {},
   "outputs": [],
   "source": []
  },
  {
   "cell_type": "markdown",
   "metadata": {
    "id": "lJdKpZQnxxOU"
   },
   "source": [
    "Si ahora queremos unir a estos datos de 2021 los guardados del año anterior 2020 para toda la comunidad, como son instantes de tiempo diferentes para las mismas localidades los apilaremos horizontalmente (primero las 4 columnas/trimestres de 2020 y despues las de 2021):"
   ]
  },
  {
   "cell_type": "code",
   "execution_count": null,
   "metadata": {
    "id": "l3uTRSPN_eLA"
   },
   "outputs": [],
   "source": [
    "# como primer argumento se indican los arrays a unir en forma de tupla\n",
    "arr_2020T_Extremadura = [[30992.04, 23402.96, 27032.3 , 22740.62],\n",
    "                         [22559.16, 16128.93, 25139.12, 23625.63],\n",
    "                         [25436.57,  9371.32, 16678.93, 20999.55],\n",
    "                         [18057.67, 23915.39, 10501.66,  7199.66],\n",
    "                         [29584.95, 22172.51, 10175.5 , 17452.76],\n",
    "                         [18610.39, 17953.95, 24468.45, 29356.84]]\n",
    "\n",
    "\n",
    "datos_2020T_Extremadura = np.array(arr_2020T_Extremadura)"
   ]
  },
  {
   "cell_type": "code",
   "execution_count": null,
   "metadata": {
    "colab": {
     "base_uri": "https://localhost:8080/"
    },
    "id": "KJJ6Iw-Q_mZ5",
    "outputId": "0902f84a-c791-4a53-8fde-2ae5c3208e6b"
   },
   "outputs": [],
   "source": [
    "datos_20_21T_Extremadura = np.hstack((datos_2020T_Extremadura, datos_2021T_Extremadura))\n",
    "\n",
    "print(datos_20_21T_Extremadura)"
   ]
  },
  {
   "cell_type": "code",
   "execution_count": null,
   "metadata": {},
   "outputs": [],
   "source": []
  },
  {
   "cell_type": "markdown",
   "metadata": {
    "id": "GJgaoRkz-alM"
   },
   "source": [
    "Como se puede intuir, **a la hora de utilizar estos métodos las dimensiones (filas/columnas) han de permitir hacer la unión**. Por ejemplo para unir verticalmente los 2 arrays han de tener el mismo nº de columnas."
   ]
  },
  {
   "cell_type": "code",
   "execution_count": null,
   "metadata": {},
   "outputs": [],
   "source": []
  },
  {
   "cell_type": "markdown",
   "metadata": {
    "id": "bWIHJPdy-afB"
   },
   "source": [
    "El método **\"concatenate\"** puede realizar concatenaciones en ambos ejes (concatenar horizontal o verticalmente):"
   ]
  },
  {
   "cell_type": "code",
   "execution_count": null,
   "metadata": {
    "colab": {
     "base_uri": "https://localhost:8080/"
    },
    "id": "ER2UvjtsFIyG",
    "outputId": "42487645-14b5-44b5-96fc-ba9f451c7ae2"
   },
   "outputs": [],
   "source": [
    "np.concatenate((datos_2020T_Extremadura, datos_2021T_Extremadura), axis=1)"
   ]
  },
  {
   "cell_type": "code",
   "execution_count": null,
   "metadata": {
    "id": "01PzEQsjJEKR"
   },
   "outputs": [],
   "source": []
  },
  {
   "cell_type": "code",
   "execution_count": null,
   "metadata": {
    "id": "qftutZDSJD-s"
   },
   "outputs": [],
   "source": []
  },
  {
   "cell_type": "markdown",
   "metadata": {},
   "source": [
    "## Ejercicio 4\n",
    "\n",
    "A los datos de ventas medias por localidad del ejercicio 3 queremos unir los datos de medias ya calculadas de otras 2 localidades:\n",
    "\n",
    "Unir los dos arrays en la orientación correcta para tener los datos de las 6 localidades"
   ]
  },
  {
   "cell_type": "code",
   "execution_count": null,
   "metadata": {},
   "outputs": [],
   "source": [
    "# datos de partida: llamar a la variable (nombre que le pusiste) de ventas medias por localidad\n",
    "# resultado del ejercicio 3\n",
    "\n",
    "media_localidad"
   ]
  },
  {
   "cell_type": "code",
   "execution_count": null,
   "metadata": {},
   "outputs": [],
   "source": [
    "media_localidad_otras = np.array([456.25, 785.75])"
   ]
  },
  {
   "cell_type": "code",
   "execution_count": null,
   "metadata": {},
   "outputs": [],
   "source": [
    "# ESCRIBIR EL CÓDIGO\n",
    "\n",
    "\n",
    "\n"
   ]
  },
  {
   "cell_type": "code",
   "execution_count": null,
   "metadata": {},
   "outputs": [],
   "source": []
  },
  {
   "cell_type": "code",
   "execution_count": null,
   "metadata": {},
   "outputs": [],
   "source": []
  },
  {
   "cell_type": "code",
   "execution_count": null,
   "metadata": {},
   "outputs": [],
   "source": []
  },
  {
   "cell_type": "markdown",
   "metadata": {
    "id": "5j6AA6OX-aaQ"
   },
   "source": [
    "## Uso de datos aleatorios: random\n",
    "\n",
    "La librería **NumPy** incluye un **módulo llamado `random`** que proporciona funciones para generar números aleatorios.\n",
    "\n",
    "Algunas de las funciones más comunes del módulo `random` son:\n",
    "\n",
    "* `rand()`: Devuelve un número aleatorio entre 0 y 1.\n",
    "* `randint()`: Devuelve un número aleatorio entero entre dos valores especificados.\n",
    "* `uniform()`: Devuelve un número aleatorio entre dos valores especificados.\n",
    "* `normal()`: Devuelve un número aleatorio con distribución normal.\n",
    "\n",
    "Por ejemplo, para generar 6 números aleatorios entre 0 y 1, podemos utilizar la siguiente función:\n"
   ]
  },
  {
   "cell_type": "code",
   "execution_count": null,
   "metadata": {
    "colab": {
     "base_uri": "https://localhost:8080/"
    },
    "id": "QrPppj5ODr8V",
    "outputId": "1f4bb241-70a9-45d8-eae2-1fb6755a602e"
   },
   "outputs": [],
   "source": [
    "nros_aleatorios = np.random.rand(6)\n",
    "\n",
    "print(nros_aleatorios)"
   ]
  },
  {
   "cell_type": "code",
   "execution_count": null,
   "metadata": {
    "colab": {
     "base_uri": "https://localhost:8080/"
    },
    "id": "gQ9rIhIVKvVk",
    "outputId": "6153eb55-68fa-4ba0-c9b5-f2869e383849"
   },
   "outputs": [],
   "source": [
    "np.random.uniform(1,40, size=6)"
   ]
  },
  {
   "cell_type": "code",
   "execution_count": null,
   "metadata": {
    "id": "rkRCNqF8KvEi"
   },
   "outputs": [],
   "source": []
  },
  {
   "cell_type": "code",
   "execution_count": null,
   "metadata": {},
   "outputs": [],
   "source": []
  },
  {
   "cell_type": "markdown",
   "metadata": {
    "id": "AvKcOH-6-aWO"
   },
   "source": [
    "\\"
   ]
  },
  {
   "cell_type": "markdown",
   "metadata": {
    "id": "OjLCtN4i-aSA"
   },
   "source": [
    "## **Copia de un array**\n",
    "\n",
    "Para **copiar un array de NumPy**, podemos utilizar la **función `copy()`**. Esta función crea una copia independiente del array original.\n",
    "\n",
    "Por ejemplo, para copiar un array, podemos utilizar la siguiente función:"
   ]
  },
  {
   "cell_type": "code",
   "execution_count": null,
   "metadata": {
    "colab": {
     "base_uri": "https://localhost:8080/"
    },
    "id": "-FOjj5SMFokK",
    "outputId": "86da4959-0f20-4ddb-fca1-25dcc1ab706e"
   },
   "outputs": [],
   "source": [
    "array = np.array([1, 2, 3])\n",
    "\n",
    "copied_array = np.copy(array)\n",
    "\n",
    "print(copied_array)"
   ]
  },
  {
   "cell_type": "code",
   "execution_count": null,
   "metadata": {
    "id": "qwbQezLp56Du"
   },
   "outputs": [],
   "source": []
  },
  {
   "cell_type": "markdown",
   "metadata": {},
   "source": [
    "**Si para hacer copias no procedemos de esta forma nos podemos llevar una sorpresa:**"
   ]
  },
  {
   "cell_type": "code",
   "execution_count": null,
   "metadata": {
    "colab": {
     "base_uri": "https://localhost:8080/"
    },
    "id": "rpCV3eyk7gMz",
    "outputId": "b57a661b-b36d-4754-c222-d861cefca49f"
   },
   "outputs": [],
   "source": [
    "mi_matriz = np.arange(1,10).reshape(3,3)\n",
    "\n",
    "mi_matriz"
   ]
  },
  {
   "cell_type": "code",
   "execution_count": null,
   "metadata": {
    "colab": {
     "base_uri": "https://localhost:8080/"
    },
    "id": "nqOW3QM2MuHC",
    "outputId": "45127ebb-8b53-478b-9b50-ad31afed2d1a"
   },
   "outputs": [],
   "source": [
    "copia_matriz = mi_matriz\n",
    "\n",
    "copia_matriz[1,1] = 999\n",
    "\n",
    "copia_matriz"
   ]
  },
  {
   "cell_type": "code",
   "execution_count": null,
   "metadata": {
    "colab": {
     "base_uri": "https://localhost:8080/"
    },
    "id": "CXUKE-GvMuCU",
    "outputId": "4afea371-1120-4565-f01c-5573e6c9838c"
   },
   "outputs": [],
   "source": [
    "mi_matriz"
   ]
  },
  {
   "cell_type": "code",
   "execution_count": null,
   "metadata": {
    "id": "-XGQaR8CMtzx"
   },
   "outputs": [],
   "source": []
  },
  {
   "cell_type": "markdown",
   "metadata": {},
   "source": [
    "**Si utilizas 'copy()' te aseguras de conservar los datos originales:**"
   ]
  },
  {
   "cell_type": "code",
   "execution_count": null,
   "metadata": {
    "colab": {
     "base_uri": "https://localhost:8080/"
    },
    "id": "yvfbJoYe7fgp",
    "outputId": "f0c69a1d-5b2f-4f6e-98d6-78a61d2aad11"
   },
   "outputs": [],
   "source": [
    "mi_matriz = np.arange(1,10).reshape(3,3)\n",
    "\n",
    "copia2 = mi_matriz.copy()\n",
    "\n",
    "copia2[1,1] = 999\n",
    "\n",
    "copia2"
   ]
  },
  {
   "cell_type": "code",
   "execution_count": null,
   "metadata": {
    "colab": {
     "base_uri": "https://localhost:8080/"
    },
    "id": "b2sE1XP1OcqH",
    "outputId": "e4c17fb9-1d45-466c-ffb4-3b34f57e640f"
   },
   "outputs": [],
   "source": [
    "mi_matriz"
   ]
  },
  {
   "cell_type": "code",
   "execution_count": null,
   "metadata": {
    "id": "NOo3gbl1Oiuy"
   },
   "outputs": [],
   "source": []
  },
  {
   "cell_type": "code",
   "execution_count": null,
   "metadata": {
    "id": "oZMz5_63P40m"
   },
   "outputs": [],
   "source": []
  },
  {
   "cell_type": "code",
   "execution_count": null,
   "metadata": {},
   "outputs": [],
   "source": []
  }
 ],
 "metadata": {
  "colab": {
   "provenance": [],
   "toc_visible": true
  },
  "kernelspec": {
   "display_name": "Python 3 (ipykernel)",
   "language": "python",
   "name": "python3"
  },
  "language_info": {
   "codemirror_mode": {
    "name": "ipython",
    "version": 3
   },
   "file_extension": ".py",
   "mimetype": "text/x-python",
   "name": "python",
   "nbconvert_exporter": "python",
   "pygments_lexer": "ipython3",
   "version": "3.9.13"
  }
 },
 "nbformat": 4,
 "nbformat_minor": 4
}
