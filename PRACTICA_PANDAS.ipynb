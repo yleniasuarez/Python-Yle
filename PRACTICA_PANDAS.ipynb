{
 "cells": [
  {
   "cell_type": "markdown",
   "id": "fb198bf0-93c9-4181-b275-55ccb9c16015",
   "metadata": {
    "id": "fb198bf0-93c9-4181-b275-55ccb9c16015"
   },
   "source": [
    "# PRÁCTICA PANDAS"
   ]
  },
  {
   "cell_type": "markdown",
   "id": "5c49cbbc-79f7-482f-b08f-964408a5860e",
   "metadata": {
    "id": "5c49cbbc-79f7-482f-b08f-964408a5860e"
   },
   "source": [
    "Vamos a trabajar con un **conjunto de datos público \"adults\"** con datos del censo de los Estados Unidos, que contiene distintas variables de la población. El fin que se busca es el de clasificar las observaciones segun la variable Ingresos (income), variable dicotómica que indica si son menores o iguales a 50000 $ o bien superiores (“<=50K” o \">50K)."
   ]
  },
  {
   "cell_type": "markdown",
   "id": "344200c9-9aa0-4d4a-b44b-544dba4c8d6c",
   "metadata": {
    "id": "344200c9-9aa0-4d4a-b44b-544dba4c8d6c"
   },
   "source": [
    "Nosotros en este punto del curso **como práctica de la librería \"Pandas\" que acabamos de ver, vamos simplemente a echarle un vistazo y a corregir y mejorar algunos aspectos del mismo.**\n",
    "\n",
    "Los **datos** se encuentran en el archivo **\"adult.data\"**. **Necesitamos también examinar el archivo \"adult.names\" que describe el dataset para poder cargar los datos correctamente.**"
   ]
  },
  {
   "cell_type": "markdown",
   "id": "e074771a-3ff2-424c-a540-85a6ae967ee3",
   "metadata": {
    "id": "e074771a-3ff2-424c-a540-85a6ae967ee3"
   },
   "source": [
    "## CARGA DE LOS DATOS"
   ]
  },
  {
   "cell_type": "code",
   "execution_count": null,
   "id": "00700876-9457-42be-809e-9d7d337b69eb",
   "metadata": {
    "id": "00700876-9457-42be-809e-9d7d337b69eb"
   },
   "outputs": [],
   "source": [
    "import numpy as np\n",
    "import pandas as pd"
   ]
  },
  {
   "cell_type": "code",
   "execution_count": null,
   "id": "320diZ1D6lqW",
   "metadata": {
    "id": "320diZ1D6lqW"
   },
   "outputs": [],
   "source": []
  },
  {
   "cell_type": "code",
   "execution_count": null,
   "id": "-3aroUi26lPc",
   "metadata": {
    "id": "-3aroUi26lPc"
   },
   "outputs": [],
   "source": []
  },
  {
   "cell_type": "code",
   "execution_count": null,
   "id": "ea3b4ec6-faea-4e3d-91e0-d438d3743af3",
   "metadata": {
    "id": "ea3b4ec6-faea-4e3d-91e0-d438d3743af3"
   },
   "outputs": [],
   "source": [
    "df_adult = pd.read_csv('./adult.data', \\\n",
    "                       header= None, \\\n",
    "                       names = ['age', 'workclass', 'fnlwgt', 'education', 'education-num', 'marital-status','occupation', \\\n",
    "                                'relationship', 'race', 'sex','capital-gain', 'capital-loss', 'hours-per-week', \\\n",
    "                                'native-country', 'income'])\n"
   ]
  },
  {
   "cell_type": "code",
   "execution_count": null,
   "id": "f912af0c-f530-41a4-b760-fd39c7a70cfa",
   "metadata": {},
   "outputs": [],
   "source": [
    "df_adult.head()"
   ]
  },
  {
   "cell_type": "code",
   "execution_count": null,
   "id": "ab18eb78-7760-4fa0-b289-bafac97d0d5b",
   "metadata": {},
   "outputs": [],
   "source": []
  },
  {
   "cell_type": "markdown",
   "id": "191e47f4-547b-4221-8704-995c4cf872cd",
   "metadata": {
    "id": "191e47f4-547b-4221-8704-995c4cf872cd"
   },
   "source": [
    "## EXPLORAR DATAFRAME"
   ]
  },
  {
   "cell_type": "code",
   "execution_count": null,
   "id": "21670eb3-1e68-4f36-b937-fba46eed4e93",
   "metadata": {
    "colab": {
     "base_uri": "https://localhost:8080/"
    },
    "id": "21670eb3-1e68-4f36-b937-fba46eed4e93",
    "outputId": "e564f211-6110-4953-bbf6-94c82c6dcd98"
   },
   "outputs": [],
   "source": [
    "df_adult.info()"
   ]
  },
  {
   "cell_type": "code",
   "execution_count": null,
   "id": "b74d03a7-ac10-47a9-ac59-6db3e00c6de9",
   "metadata": {
    "id": "b74d03a7-ac10-47a9-ac59-6db3e00c6de9"
   },
   "outputs": [],
   "source": []
  },
  {
   "cell_type": "markdown",
   "id": "8f41b574-72b6-4e50-a2fc-3f5164fc844a",
   "metadata": {
    "id": "8f41b574-72b6-4e50-a2fc-3f5164fc844a"
   },
   "source": [
    "**Para manejar más fácil los datos suele ser util separar las variables por tipo:**"
   ]
  },
  {
   "cell_type": "code",
   "execution_count": null,
   "id": "925aad05-18a2-406f-b136-d0bdf2f2f673",
   "metadata": {
    "colab": {
     "base_uri": "https://localhost:8080/"
    },
    "id": "925aad05-18a2-406f-b136-d0bdf2f2f673",
    "outputId": "86b6128a-3d66-434e-9879-3f5a7c06d466"
   },
   "outputs": [],
   "source": [
    "variables_continuas = df_adult.select_dtypes(exclude=['object']).columns.to_list()\n",
    "\n",
    "variables_continuas\n",
    "\n"
   ]
  },
  {
   "cell_type": "code",
   "execution_count": null,
   "id": "32811dff-e40e-4298-bc94-95bbdc1566bd",
   "metadata": {
    "colab": {
     "base_uri": "https://localhost:8080/"
    },
    "id": "32811dff-e40e-4298-bc94-95bbdc1566bd",
    "outputId": "43ea6bd1-bd61-44b1-87e0-0698ca855e8c"
   },
   "outputs": [],
   "source": [
    "variables_discretas = df_adult.select_dtypes(include=['object']).columns.to_list()\n",
    "\n",
    "variables_discretas"
   ]
  },
  {
   "cell_type": "code",
   "execution_count": null,
   "id": "a75856da-dae2-42cd-89bd-ef735647f0c9",
   "metadata": {
    "id": "a75856da-dae2-42cd-89bd-ef735647f0c9"
   },
   "outputs": [],
   "source": []
  },
  {
   "cell_type": "code",
   "execution_count": null,
   "id": "9613f1e0-8efa-4677-8b48-f39d7fa139da",
   "metadata": {
    "colab": {
     "base_uri": "https://localhost:8080/",
     "height": 300
    },
    "id": "9613f1e0-8efa-4677-8b48-f39d7fa139da",
    "outputId": "02d29006-d1d1-4e97-e7df-94e0b147330b"
   },
   "outputs": [],
   "source": [
    "df_adult.describe()"
   ]
  },
  {
   "cell_type": "code",
   "execution_count": null,
   "id": "8bcad9cb-59d2-4d21-85d4-30876234522c",
   "metadata": {
    "colab": {
     "base_uri": "https://localhost:8080/",
     "height": 174
    },
    "id": "8bcad9cb-59d2-4d21-85d4-30876234522c",
    "outputId": "324b5115-ac52-43fd-bc88-40ddccea5078"
   },
   "outputs": [],
   "source": [
    "df_adult.describe(include=['O'])"
   ]
  },
  {
   "cell_type": "code",
   "execution_count": null,
   "id": "1af8f310-e878-4f01-af93-38c6aec6624e",
   "metadata": {
    "id": "1af8f310-e878-4f01-af93-38c6aec6624e"
   },
   "outputs": [],
   "source": []
  },
  {
   "cell_type": "code",
   "execution_count": null,
   "id": "W_VtgtBBDIMM",
   "metadata": {
    "colab": {
     "base_uri": "https://localhost:8080/"
    },
    "id": "W_VtgtBBDIMM",
    "outputId": "b974ddf4-7ce5-4ba1-d9c9-fa814433c149"
   },
   "outputs": [],
   "source": [
    "variables_discretas"
   ]
  },
  {
   "cell_type": "code",
   "execution_count": null,
   "id": "2cb37e37-69ce-40a8-87de-fc539ee84cac",
   "metadata": {
    "colab": {
     "base_uri": "https://localhost:8080/"
    },
    "id": "2cb37e37-69ce-40a8-87de-fc539ee84cac",
    "outputId": "0fae410e-d7d1-4c51-fc2e-6288e954172c"
   },
   "outputs": [],
   "source": [
    "for discreta in variables_discretas:\n",
    "\n",
    "    print(f'Variable {discreta.upper()}:')\n",
    "    print('Valores unicos: ')\n",
    "    print(df_adult[discreta].unique(), end='\\n'*2)\n",
    "    print(df_adult[discreta].value_counts(), end='\\n'*2)\n"
   ]
  },
  {
   "cell_type": "markdown",
   "id": "39551d77-9a6b-46f0-aea4-6aa0f3f12669",
   "metadata": {
    "id": "39551d77-9a6b-46f0-aea4-6aa0f3f12669"
   },
   "source": [
    "**Deberíamos  eliminar los espacios en blanco en las columnas tipo cadena y sustituir la interrogación \"?\" por el valor nulo**"
   ]
  },
  {
   "cell_type": "markdown",
   "id": "43b519b8-39e1-4cae-ba8f-586ecc6c8686",
   "metadata": {
    "id": "43b519b8-39e1-4cae-ba8f-586ecc6c8686"
   },
   "source": []
  },
  {
   "cell_type": "markdown",
   "id": "80607a88-1e82-4e7d-a42f-c446546f74be",
   "metadata": {
    "id": "80607a88-1e82-4e7d-a42f-c446546f74be"
   },
   "source": [
    "## CORRECCIÓN DE ERRORES"
   ]
  },
  {
   "cell_type": "markdown",
   "id": "cc10b292-76e9-4f23-bc2d-be5eafe5a497",
   "metadata": {
    "id": "cc10b292-76e9-4f23-bc2d-be5eafe5a497"
   },
   "source": [
    "### Espacios en blanco en los campos cadena"
   ]
  },
  {
   "cell_type": "markdown",
   "id": "9651c0b5-0e4c-4cdb-85ff-4377d87dc771",
   "metadata": {
    "id": "9651c0b5-0e4c-4cdb-85ff-4377d87dc771"
   },
   "source": [
    "**Nota**: a una **Serie** cuyos datos sean texto (cadena, string), se le pueden **aplicar métodos de cadena** a la Serie completa **anteponiendo la palabra clave \"str\" en la notación punto.**"
   ]
  },
  {
   "cell_type": "code",
   "execution_count": null,
   "id": "eadc2484-6d80-4c94-8d07-7a5e74e2ef69",
   "metadata": {
    "id": "eadc2484-6d80-4c94-8d07-7a5e74e2ef69"
   },
   "outputs": [],
   "source": [
    "def eliminar_espacios(serie):\n",
    "    return serie.str.strip()"
   ]
  },
  {
   "cell_type": "raw",
   "id": "bfe5f538-9bbb-4256-9378-e48ad4c34f5d",
   "metadata": {
    "id": "bfe5f538-9bbb-4256-9378-e48ad4c34f5d"
   },
   "source": []
  },
  {
   "cell_type": "code",
   "execution_count": null,
   "id": "17534ded-83d0-47b0-9d35-52a5d5060530",
   "metadata": {
    "colab": {
     "base_uri": "https://localhost:8080/",
     "height": 35
    },
    "id": "17534ded-83d0-47b0-9d35-52a5d5060530",
    "outputId": "500232a8-2758-4657-8ae6-dfffedb1c752"
   },
   "outputs": [],
   "source": [
    "df_adult.race[0]"
   ]
  },
  {
   "cell_type": "code",
   "execution_count": null,
   "id": "b9d8f867-a804-4cc5-9c44-9c79e716a82a",
   "metadata": {
    "colab": {
     "base_uri": "https://localhost:8080/",
     "height": 35
    },
    "id": "b9d8f867-a804-4cc5-9c44-9c79e716a82a",
    "outputId": "dd3b376e-7365-46cf-a2be-307112fbf322"
   },
   "outputs": [],
   "source": [
    "eliminar_espacios(df_adult.race)[0]"
   ]
  },
  {
   "cell_type": "code",
   "execution_count": null,
   "id": "c8e09b68-c48e-49c3-a1d5-9c607a7c64c7",
   "metadata": {
    "id": "c8e09b68-c48e-49c3-a1d5-9c607a7c64c7"
   },
   "outputs": [],
   "source": []
  },
  {
   "cell_type": "code",
   "execution_count": null,
   "id": "258426c2-36b6-4908-ad3e-fd531c50e39c",
   "metadata": {
    "colab": {
     "base_uri": "https://localhost:8080/"
    },
    "id": "258426c2-36b6-4908-ad3e-fd531c50e39c",
    "outputId": "8e3fddc3-4d10-4c17-d086-38bdf5a2ea78"
   },
   "outputs": [],
   "source": [
    "df_adult[variables_discretas] = df_adult[variables_discretas].apply(eliminar_espacios)\n",
    "\n",
    "for discreta in variables_discretas:\n",
    "\n",
    "    print(f'Variable {discreta.upper()}:')\n",
    "    print('Valores unicos: ')\n",
    "    print(df_adult[discreta].unique(), end='\\n'*2)"
   ]
  },
  {
   "cell_type": "code",
   "execution_count": null,
   "id": "44f91da4-2019-4d70-9496-86d76519f543",
   "metadata": {
    "id": "44f91da4-2019-4d70-9496-86d76519f543"
   },
   "outputs": [],
   "source": []
  },
  {
   "cell_type": "markdown",
   "id": "8dc7a2f1-8de9-4ceb-b6f8-a79ba41195f1",
   "metadata": {
    "id": "8dc7a2f1-8de9-4ceb-b6f8-a79ba41195f1"
   },
   "source": [
    "### Codificar correctamente los datos nulos (sustituir \"?\")"
   ]
  },
  {
   "cell_type": "code",
   "execution_count": null,
   "id": "8974b4bf-ce8e-4d10-85fb-22aef2a99a05",
   "metadata": {
    "colab": {
     "base_uri": "https://localhost:8080/"
    },
    "id": "8974b4bf-ce8e-4d10-85fb-22aef2a99a05",
    "outputId": "57d04cd5-b2e2-458c-c8f4-d207fb745f44"
   },
   "outputs": [],
   "source": [
    "df_adult.replace('?', None, inplace=True)\n",
    "\n",
    "for discreta in variables_discretas:\n",
    "\n",
    "    print(f'Variable {discreta.upper()}:')\n",
    "    print('Valores unicos: ')\n",
    "    print(df_adult[discreta].unique(), end='\\n'*2)"
   ]
  },
  {
   "cell_type": "code",
   "execution_count": null,
   "id": "9f060b08-8f89-4671-938d-953086856252",
   "metadata": {
    "colab": {
     "base_uri": "https://localhost:8080/"
    },
    "id": "9f060b08-8f89-4671-938d-953086856252",
    "outputId": "819a0897-cb42-4377-aad3-7c191bbd0eba"
   },
   "outputs": [],
   "source": [
    "df_adult.isnull().sum()"
   ]
  },
  {
   "cell_type": "code",
   "execution_count": null,
   "id": "59fcc3d2-0ed6-47b0-b959-7524927d83af",
   "metadata": {
    "colab": {
     "base_uri": "https://localhost:8080/"
    },
    "id": "59fcc3d2-0ed6-47b0-b959-7524927d83af",
    "outputId": "fc7b41fd-dd9b-4ce9-920d-c6119c7f0de6"
   },
   "outputs": [],
   "source": [
    "df_adult.isnull().mean() * 100"
   ]
  },
  {
   "cell_type": "code",
   "execution_count": null,
   "id": "21eaa1c4-0839-4f15-9839-9e4bd0f43dc4",
   "metadata": {
    "id": "21eaa1c4-0839-4f15-9839-9e4bd0f43dc4"
   },
   "outputs": [],
   "source": []
  },
  {
   "cell_type": "markdown",
   "id": "029830fd-e919-4d99-bdd2-d90b9486fcac",
   "metadata": {
    "id": "029830fd-e919-4d99-bdd2-d90b9486fcac"
   },
   "source": [
    "## AÑADIR CAMPO CALCULADO 'capital_dif'. ELIMINAR LOS CAMPOS NO NECESARIOS."
   ]
  },
  {
   "cell_type": "code",
   "execution_count": null,
   "id": "513a5015-5e8f-4fca-a36e-e352626f3c2f",
   "metadata": {
    "colab": {
     "base_uri": "https://localhost:8080/",
     "height": 399
    },
    "id": "513a5015-5e8f-4fca-a36e-e352626f3c2f",
    "outputId": "93212750-d483-446c-d47a-6094e898defb"
   },
   "outputs": [],
   "source": [
    "df_adult['capital_dif'] = df_adult['capital-gain'] - df_adult['capital-loss']\n",
    "\n",
    "df_adult.head()"
   ]
  },
  {
   "cell_type": "code",
   "execution_count": null,
   "id": "82714d2a-3c05-4968-994f-d0647b02679f",
   "metadata": {
    "id": "82714d2a-3c05-4968-994f-d0647b02679f"
   },
   "outputs": [],
   "source": []
  },
  {
   "cell_type": "code",
   "execution_count": null,
   "id": "3675fc78-e8e0-411f-8010-77acd4912a45",
   "metadata": {
    "colab": {
     "base_uri": "https://localhost:8080/",
     "height": 399
    },
    "id": "3675fc78-e8e0-411f-8010-77acd4912a45",
    "outputId": "263d2df3-fd7e-4685-c5b6-db73c9af5a72"
   },
   "outputs": [],
   "source": [
    "df_adult.drop(columns=['capital-gain', 'capital-loss'], inplace=True)\n",
    "\n",
    "df_adult.head()"
   ]
  },
  {
   "cell_type": "code",
   "execution_count": null,
   "id": "ef4c5123-76b9-4e03-a8f6-01f52ee82d62",
   "metadata": {
    "id": "ef4c5123-76b9-4e03-a8f6-01f52ee82d62"
   },
   "outputs": [],
   "source": []
  },
  {
   "cell_type": "markdown",
   "id": "be85570a-509f-4e8d-a800-ed2ba23b7a86",
   "metadata": {
    "id": "be85570a-509f-4e8d-a800-ed2ba23b7a86"
   },
   "source": [
    "## CODIFICAR LA VARIABLE OBJETIVO"
   ]
  },
  {
   "cell_type": "markdown",
   "id": "bcc3e8e0-1a64-46a2-9940-c508227ff796",
   "metadata": {
    "id": "bcc3e8e0-1a64-46a2-9940-c508227ff796"
   },
   "source": [
    "Suele ser usual la variable objetivo si es categórica codificarla a número. Podemos utilizar el método **\"replace\"** que permite establecer las correspondencias:\n"
   ]
  },
  {
   "cell_type": "code",
   "execution_count": null,
   "id": "17336e08-9651-4c98-8e0f-89a64f56563e",
   "metadata": {
    "id": "17336e08-9651-4c98-8e0f-89a64f56563e"
   },
   "outputs": [],
   "source": [
    "muestra_income = df_adult.sample(n=10, random_state=42).income\n",
    "\n",
    "muestra_income"
   ]
  },
  {
   "cell_type": "code",
   "execution_count": null,
   "id": "2629e079-1687-4501-902f-4651d1c607de",
   "metadata": {
    "id": "2629e079-1687-4501-902f-4651d1c607de"
   },
   "outputs": [],
   "source": [
    "muestra_income.replace({'<=50K': 0, '>50K': 1})"
   ]
  },
  {
   "cell_type": "code",
   "execution_count": null,
   "id": "4beb682f-590d-4704-9ccf-33be37aecec9",
   "metadata": {
    "id": "4beb682f-590d-4704-9ccf-33be37aecec9"
   },
   "outputs": [],
   "source": [
    "df_adult.income = df_adult.income.replace({'<=50K': 0, '>50K': 1})\n",
    "\n",
    "df_adult.head()"
   ]
  },
  {
   "cell_type": "code",
   "execution_count": null,
   "id": "72b3aa68-e63b-4066-8579-e0972f968677",
   "metadata": {
    "id": "72b3aa68-e63b-4066-8579-e0972f968677"
   },
   "outputs": [],
   "source": []
  },
  {
   "cell_type": "markdown",
   "id": "60cedd5e-2971-4b4d-9f14-916c3fc83e31",
   "metadata": {
    "id": "60cedd5e-2971-4b4d-9f14-916c3fc83e31"
   },
   "source": [
    "## NOS HACEMOS ALGUNAS PREGUNTAS."
   ]
  },
  {
   "cell_type": "markdown",
   "id": "f00dfe1c-7915-4e29-9c42-e520f8e3639d",
   "metadata": {
    "id": "f00dfe1c-7915-4e29-9c42-e520f8e3639d"
   },
   "source": [
    "**-¿Influye la educación en los ingresos?**"
   ]
  },
  {
   "cell_type": "code",
   "execution_count": null,
   "id": "ecde63ab-2384-4625-9d0b-7597af2f108d",
   "metadata": {
    "id": "ecde63ab-2384-4625-9d0b-7597af2f108d"
   },
   "outputs": [],
   "source": [
    "df_adult.groupby(by=['education'])['income'].agg('mean').sort_values(ascending=False)"
   ]
  },
  {
   "cell_type": "code",
   "execution_count": null,
   "id": "83cb0e24-fec1-4589-9ff7-1b2d04bbd2a1",
   "metadata": {
    "id": "83cb0e24-fec1-4589-9ff7-1b2d04bbd2a1"
   },
   "outputs": [],
   "source": []
  },
  {
   "cell_type": "markdown",
   "id": "69841366-4fa7-4ef5-96a1-569fd65e9a77",
   "metadata": {
    "id": "69841366-4fa7-4ef5-96a1-569fd65e9a77"
   },
   "source": [
    "**-¿Hay sesgo por la raza?**"
   ]
  },
  {
   "cell_type": "code",
   "execution_count": null,
   "id": "13ae63e3-d91e-4436-ab01-bc95ade6b993",
   "metadata": {
    "id": "13ae63e3-d91e-4436-ab01-bc95ade6b993"
   },
   "outputs": [],
   "source": [
    "df_adult.groupby(by=['race'])['income'].agg('mean').sort_values(ascending=False)"
   ]
  },
  {
   "cell_type": "code",
   "execution_count": null,
   "id": "a3bcc8af-2e08-42e7-a7b8-4eaeb4386541",
   "metadata": {
    "id": "a3bcc8af-2e08-42e7-a7b8-4eaeb4386541"
   },
   "outputs": [],
   "source": []
  },
  {
   "cell_type": "markdown",
   "id": "9cecaa62-254a-427a-8985-3871468c9c5c",
   "metadata": {
    "id": "9cecaa62-254a-427a-8985-3871468c9c5c"
   },
   "source": [
    "**- Influencia cruzada**"
   ]
  },
  {
   "cell_type": "code",
   "execution_count": null,
   "id": "e8f8e6f5-c8bb-4c2a-9317-793ae79b4db1",
   "metadata": {
    "id": "e8f8e6f5-c8bb-4c2a-9317-793ae79b4db1"
   },
   "outputs": [],
   "source": [
    "df_adult.groupby(by=['education','race'])['income'].agg('mean').sort_values(ascending=False)"
   ]
  },
  {
   "cell_type": "code",
   "execution_count": null,
   "id": "a104a217-ae88-4373-8824-1b75e68dc7d7",
   "metadata": {
    "id": "a104a217-ae88-4373-8824-1b75e68dc7d7"
   },
   "outputs": [],
   "source": []
  },
  {
   "cell_type": "code",
   "execution_count": null,
   "id": "1d3e99ff-3675-408e-a4e8-a47c5197a282",
   "metadata": {
    "id": "1d3e99ff-3675-408e-a4e8-a47c5197a282"
   },
   "outputs": [],
   "source": []
  },
  {
   "cell_type": "markdown",
   "id": "d7d0704e-6921-4626-b601-c7d47dc042eb",
   "metadata": {
    "id": "d7d0704e-6921-4626-b601-c7d47dc042eb"
   },
   "source": [
    "## POR ÚLTIMO GUARDAR EL DATAFRAME PROCESADO"
   ]
  },
  {
   "cell_type": "code",
   "execution_count": null,
   "id": "9d1ff6db-e281-4804-9e08-9390b62b338c",
   "metadata": {
    "id": "9d1ff6db-e281-4804-9e08-9390b62b338c"
   },
   "outputs": [],
   "source": [
    "df_adult.to_csv('./adult_final.csv', index=False)"
   ]
  },
  {
   "cell_type": "code",
   "execution_count": null,
   "id": "c68e0767-8243-4bff-a2af-ceb54ce94ec9",
   "metadata": {
    "id": "c68e0767-8243-4bff-a2af-ceb54ce94ec9"
   },
   "outputs": [],
   "source": []
  }
 ],
 "metadata": {
  "colab": {
   "provenance": []
  },
  "kernelspec": {
   "display_name": "Python 3 (ipykernel)",
   "language": "python",
   "name": "python3"
  },
  "language_info": {
   "codemirror_mode": {
    "name": "ipython",
    "version": 3
   },
   "file_extension": ".py",
   "mimetype": "text/x-python",
   "name": "python",
   "nbconvert_exporter": "python",
   "pygments_lexer": "ipython3",
   "version": "3.9.13"
  }
 },
 "nbformat": 4,
 "nbformat_minor": 5
}
