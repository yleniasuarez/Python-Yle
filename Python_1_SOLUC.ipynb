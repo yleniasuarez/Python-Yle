{
 "cells": [
  {
   "cell_type": "markdown",
   "metadata": {
    "id": "d7RC4iFz0NP8"
   },
   "source": [
    "# **PYTHON (Especialista en Inteligencia Artificial)**"
   ]
  },
  {
   "cell_type": "markdown",
   "metadata": {
    "id": "qbUgOFSZ0U11"
   },
   "source": [
    "![Python_logo_55.svg](data:image/svg+xml;base64,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)"
   ]
  },
  {
   "cell_type": "markdown",
   "metadata": {
    "id": "1WBv9iY0yDkM"
   },
   "source": [
    "**Python** es un **lenguaje de programación de alto nivel, de código abierto y multiparadigma**. Es decir, que puede ser utilizado para desarrollar aplicaciones de diferentes tipos, como aplicaciones web, aplicaciones de escritorio, aplicaciones móviles, aplicaciones científicas, entre otras.\n",
    "\n",
    "**Python es un lenguaje interpretado**, lo que significa que el código Python no necesita ser compilado antes de ser ejecutado. Esto hace que Python sea un lenguaje muy fácil de aprender y usar, ya que no es necesario ejecutar todo unprogramapara ver resultados.\n",
    "\n",
    "En lossiguientes notebooks nosotros llegaremos en Python hasta lo necesario para aplicarlo al curso.\n",
    "\n",
    "\n"
   ]
  },
  {
   "cell_type": "markdown",
   "metadata": {
    "id": "ZrYOtzev1VN_"
   },
   "source": [
    "# PRIMER PASO: HOLA MUNDO\n",
    "\n",
    "Que mejor ejemplo de la simplicidad de python que el código necesario para escribir por pantalla (comparado con otros como Java o C++)\n",
    "\n",
    "Aqui vemos también lo que es un comentario. Si en una línea escribimos (#) todo lo que viene después no se ejecuta, es solo un comentario.\n",
    "\n"
   ]
  },
  {
   "cell_type": "code",
   "execution_count": 1,
   "metadata": {
    "id": "DLuIjcBHyDkT"
   },
   "outputs": [
    {
     "name": "stdout",
     "output_type": "stream",
     "text": [
      "¡Hola mundo!\n"
     ]
    }
   ],
   "source": [
    "# Clásico primer programa\n",
    "\n",
    "print(\"¡Hola mundo!\")\n",
    "\n"
   ]
  },
  {
   "cell_type": "markdown",
   "metadata": {
    "id": "uujmYFVSDD_a"
   },
   "source": [
    "\\\n"
   ]
  },
  {
   "cell_type": "markdown",
   "metadata": {
    "id": "qusgWVab2ZzY"
   },
   "source": [
    "# **TIPOS DE DATOS SIMPLES Y SUS OPERACIONES**\n",
    "\n",
    "En Python, un tipo de dato es una clasificación de los valores que pueden ser almacenados en una variable.\n",
    "\n",
    "Una **variable** es un identificador que señala a una determinada dirección de memoria donde se guarda un valor.\n",
    "\n",
    "Cada tipo de dato tiene características y propiedades específicas que lo hacen adecuado para ciertos usos y operaciones.\n",
    "\n",
    "**Tipos de datos simples**\n",
    "\n",
    "Los tipos de datos simples en Python son aquellos que no están compuestos por otros tipos de datos. Los tipos de datos simples más comunes son:\n",
    "\n",
    "* **Enteros (int)**: Representan números enteros sin decimales. Por ejemplo 75 ; -23 ......\n",
    "* **Decimales (float)**: Representan números con decimales (7.23 ; -954.1)\n",
    "* **Cadenas de caracteres (str)**: Representan una secuencia de caracteres, texto ('Ana' ; '¿Como te encuentras hoy?' ; \"el numero es 23\"). **Las cadenas se deben escribir entre comillas simples o dobles** (unas o las otras)\n",
    "* **Booleanos (bool)**: Representan valores lógicos, como verdadero (True) o falso (False).\n",
    "\n",
    "\\\n",
    "Al contrario que en otros lenguajes **las variables de cualquier tipo no tienen que declararse antes de utilizarlas.**"
   ]
  },
  {
   "cell_type": "code",
   "execution_count": 2,
   "metadata": {
    "id": "k0TOdS4E5qy8"
   },
   "outputs": [
    {
     "name": "stdout",
     "output_type": "stream",
     "text": [
      "Jerez de la Frontera\n",
      "853.27\n"
     ]
    }
   ],
   "source": [
    "# guardamos en la variable saldo una cantidad en euros (tipo float)\n",
    "# asignamos el valor directamente sin declaración previa\n",
    "saldo = 853.27\n",
    "\n",
    "# otro ejemplo aquí de tipo cadena (string, str)\n",
    "localidad = \"Jerez de la Frontera\"\n",
    "\n",
    "print(localidad)\n",
    "print(saldo)\n"
   ]
  },
  {
   "cell_type": "markdown",
   "metadata": {
    "id": "Y-W8ELuF543f"
   },
   "source": [
    "En este primer ejemplo de código que vemos nos aparece el **operador de asignación con el símbolo de igual (=)**.\\\n",
    "Con este operador asignamos a una variable u objeto un determinado valor, en este caso el valor <853.27> lo \"guardamos\" en la variable \"saldo\" y la cadena \"Jerez de la Frontera\" en la variable \"localidad\".\n",
    "\n"
   ]
  },
  {
   "cell_type": "markdown",
   "metadata": {
    "id": "qwbPRlaj3I92"
   },
   "source": [
    "## - **Operaciones con tipos de datos numéricos (enteros y decimales)**\n",
    "\n",
    "Soportan las conocidas operaciones y funciones matemáticas:\n",
    "\n",
    "**Operaciones matemáticas**\n",
    "\n",
    "Las operaciones matemáticas básicas (con sus símbolos correspondientes) que se pueden realizar con tipos de datos son:\n",
    "\n",
    "* Suma (+)\n",
    "* Resta (-)\n",
    "* Multiplicación (*)\n",
    "* División (/)\n",
    "* División entera (//)\n",
    "* Módulo (%)\n",
    "* Potencia (**)\n"
   ]
  },
  {
   "cell_type": "code",
   "execution_count": 3,
   "metadata": {
    "id": "mc5r9ewV1Sl6"
   },
   "outputs": [
    {
     "name": "stdout",
     "output_type": "stream",
     "text": [
      "30\n"
     ]
    }
   ],
   "source": [
    "# Suma de dos números\n",
    "a = 10\n",
    "b = 20\n",
    "suma = a + b\n",
    "print(suma)\n",
    "\n"
   ]
  },
  {
   "cell_type": "markdown",
   "metadata": {
    "id": "DWZGIBaK69KZ"
   },
   "source": [
    "Vemos ahora un ejemplo más complejo, el cálculo para pasar la temperatura de grados Celsius a Fahrenheit:"
   ]
  },
  {
   "cell_type": "code",
   "execution_count": 4,
   "metadata": {
    "id": "CpTM3W-hEqhk"
   },
   "outputs": [
    {
     "name": "stdout",
     "output_type": "stream",
     "text": [
      "68.0\n"
     ]
    }
   ],
   "source": [
    "# Temperatura en Celsius\n",
    "grados_celsius = 20\n",
    "\n",
    "# Realizamos la conversión\n",
    "grados_fahrenheit = (grados_celsius * 9 / 5) + 32\n",
    "\n",
    "# Imprimimos el resultado\n",
    "print(grados_fahrenheit)"
   ]
  },
  {
   "cell_type": "markdown",
   "metadata": {
    "id": "1Ai9ZWovC3K-"
   },
   "source": [
    "\\"
   ]
  },
  {
   "cell_type": "markdown",
   "metadata": {
    "id": "CH_ZG9pw5ILk"
   },
   "source": [
    "## - **Operaciones de comparación o relacionales**\n",
    "\n",
    "Se utilizan en determinados tipos, siempre comparando valores del mismo tipo. Dan como resultado un valor booleano (True/False) según se cumpla o no la comparación:\n",
    "\n",
    "* **Igual (==)**: Devuelve verdadero si los operandos son iguales. **Vease como se escribe 2 veces el simbolo igual, para diferenciarlo del operador asignación.**\n",
    "* **Distinto (!=)**: Devuelve verdadero si los operandos son diferentes.\n",
    "* **Menor que (<)**: Devuelve verdadero si el primer operando es menor que el segundo.\n",
    "* **Menor o igual que (<=)**: Devuelve verdadero si el primer operando es menor o igual que el segundo.\n",
    "* **Mayor que (>)**: Devuelve verdadero si el primer operando es mayor que el segundo.\n",
    "* **Mayor o igual que (>=)**: Devuelve verdadero si el primer operando es mayor o igual que el segundo."
   ]
  },
  {
   "cell_type": "code",
   "execution_count": 5,
   "metadata": {
    "id": "d-EN3Vvx77w5"
   },
   "outputs": [
    {
     "name": "stdout",
     "output_type": "stream",
     "text": [
      "30\n",
      "True\n"
     ]
    }
   ],
   "source": [
    "# siguiendo con el ejemplo anterior:\n",
    "print(suma)\n",
    "print(suma > 10)"
   ]
  },
  {
   "cell_type": "code",
   "execution_count": 6,
   "metadata": {
    "id": "TE1BA-CT9sPp"
   },
   "outputs": [
    {
     "name": "stdout",
     "output_type": "stream",
     "text": [
      "False\n"
     ]
    }
   ],
   "source": [
    "# se pueden utilizar en cadenas, por ejemplo para comprobar un nombre:\n",
    "\n",
    "nombre = 'Eduardo'\n",
    "\n",
    "print(nombre == 'Pepe')"
   ]
  },
  {
   "cell_type": "markdown",
   "metadata": {
    "id": "xirXyM_S-cLD"
   },
   "source": [
    "\\"
   ]
  },
  {
   "cell_type": "markdown",
   "metadata": {
    "id": "TZc2pCnz5qbp"
   },
   "source": [
    "## - **Operaciones lógicas**\n",
    "\n",
    "Las operaciones lógicas se  realizan sobre tipos de datos booleanos y sirven para evaluar condiciones compuestas:\n",
    "\n",
    "* **And:** Devuelve verdadero si ambos operandos (condiciones) son verdaderos (OPERADOR \"Y\")\n",
    "* **Or:** Devuelve verdadero si al menos uno de los operandos (condiciones) es verdadero (OPERADOR \"O\")\n",
    "* **Not:** Devuelve verdadero si el operando (condición) es falso, y viceversa (OPERADOR \"NO\")"
   ]
  },
  {
   "cell_type": "code",
   "execution_count": 7,
   "metadata": {
    "id": "e_PMVVbI_ARM"
   },
   "outputs": [
    {
     "name": "stdout",
     "output_type": "stream",
     "text": [
      "Eduardo\n",
      "30\n"
     ]
    }
   ],
   "source": [
    "# VALORES PREVIOS\n",
    "\n",
    "print(nombre)\n",
    "print(suma)"
   ]
  },
  {
   "cell_type": "code",
   "execution_count": 8,
   "metadata": {
    "id": "UrfVrMA-_L3U"
   },
   "outputs": [
    {
     "name": "stdout",
     "output_type": "stream",
     "text": [
      "True\n",
      "False\n",
      "True\n",
      "True\n"
     ]
    }
   ],
   "source": [
    "print(nombre=='Eduardo' and suma==30)   # TRUE: se cumplen ambas (OPERADOR \"Y\")\n",
    "\n",
    "print(nombre=='Pepe' and suma==30)      # FALSE: una de ellas o ambas no se cumplen (OPERADOR \"Y\")\n",
    "\n",
    "print(nombre=='Pepe' or suma==30)      # TRUE: BASTA QUE SE CUMPLA UNA DE ELLAS (OPERADOR \"O\")\n",
    "\n",
    "print(not suma==50)                    # como suma==50 es Falso, devuelve VERDADERO"
   ]
  },
  {
   "cell_type": "markdown",
   "metadata": {
    "id": "qLz_00eEERBY"
   },
   "source": [
    "\\"
   ]
  },
  {
   "cell_type": "markdown",
   "metadata": {
    "id": "uFbvhdmFFb8u"
   },
   "source": [
    "## - **Operaciones de cadenas**\n",
    "\n",
    "Para las cadenas **el símbolo (+) indica la concatenación de cadenas** (escribir una despues de otra)\n"
   ]
  },
  {
   "cell_type": "code",
   "execution_count": 9,
   "metadata": {
    "id": "PIjDpum6GePj"
   },
   "outputs": [
    {
     "name": "stdout",
     "output_type": "stream",
     "text": [
      "Buenas tardes Claudia\n"
     ]
    }
   ],
   "source": [
    "saludo = \"Buenas tardes\"\n",
    "nombre = \"Claudia\"\n",
    "\n",
    "frase = saludo + \" \" + nombre\n",
    "print(frase)"
   ]
  },
  {
   "cell_type": "code",
   "execution_count": null,
   "metadata": {},
   "outputs": [],
   "source": []
  },
  {
   "cell_type": "markdown",
   "metadata": {
    "id": "lxNrp1KZF8UF"
   },
   "source": [
    "# ESTRUCTURAS CONDICIONALES"
   ]
  },
  {
   "cell_type": "markdown",
   "metadata": {
    "id": "7Ee1NlVdF8Qx"
   },
   "source": [
    "Una estructura condicional es un bloque de código que nos permite realizar unas acciones determinadas u otras, según se cumplan o no unas condiciones que nosotros indiquemos.\n",
    "\n",
    "Las palabras clave a utilizar son **<if ... else>**. Veamoslo con un ejemplo:"
   ]
  },
  {
   "cell_type": "code",
   "execution_count": 10,
   "metadata": {
    "id": "f-uiBYsC5quz"
   },
   "outputs": [
    {
     "name": "stdout",
     "output_type": "stream",
     "text": [
      "La suma es menor o igual a 30.\n"
     ]
    }
   ],
   "source": [
    "# Condicional if\n",
    "if suma > 30:\n",
    "    print(\"La suma es mayor a 30.\")\n",
    "else:\n",
    "    print(\"La suma es menor o igual a 30.\")\n",
    "\n"
   ]
  },
  {
   "cell_type": "markdown",
   "metadata": {
    "id": "V2JksXxkJMSz"
   },
   "source": [
    "**También se pueden evaluar varias condiciones**  <if .... elif ... else>\n",
    "\n",
    "*Vamos a a provechar este punto para presentar la función \"**input**\"* (mas adelante presentaremos las funciones, por ahora solo la usamos), que permite preguntar al usuario para que introduzca valores por el teclado. **\"Input\" devuelve una cadena**, y entre paréntesis debemos escribir el texto que queramos que salga por pantalla (en forma de cadena también):\n",
    "\n",
    "Veamos el ejemplo:"
   ]
  },
  {
   "cell_type": "code",
   "execution_count": 11,
   "metadata": {
    "id": "4HlbvtP0Jkol"
   },
   "outputs": [
    {
     "name": "stdin",
     "output_type": "stream",
     "text": [
      "¿De qué color está el semáforo?:  rojo\n"
     ]
    },
    {
     "name": "stdout",
     "output_type": "stream",
     "text": [
      "Pisa el freno\n"
     ]
    }
   ],
   "source": [
    "semaforo = input(\"¿De qué color está el semáforo?: \")\n",
    "\n",
    "if semaforo == \"rojo\":\n",
    "  print(\"Pisa el freno\")\n",
    "elif semaforo == \"amarillo\":\n",
    "  print(\"Aprieta a ver si pasamos (MAAAALLL)\")\n",
    "else:\n",
    "  print(\"Podemos pasar sin problema\")"
   ]
  },
  {
   "cell_type": "code",
   "execution_count": null,
   "metadata": {},
   "outputs": [],
   "source": []
  },
  {
   "cell_type": "markdown",
   "metadata": {
    "id": "jQFr8_nJJMPv"
   },
   "source": [
    "# EJERCICIO 1.\n",
    "Escriba el codigo necesario para pedir dos número por teclado, identificar cual es el mas pequeño (guardarlo) , y despues de sumarle el 20 por ciento sacarlo por pantalla"
   ]
  },
  {
   "cell_type": "code",
   "execution_count": 12,
   "metadata": {
    "id": "sZVDv67JOWg3"
   },
   "outputs": [
    {
     "name": "stdin",
     "output_type": "stream",
     "text": [
      "Introduzca primer numero:  10\n",
      "Introduzca segundo numero:  22\n"
     ]
    },
    {
     "name": "stdout",
     "output_type": "stream",
     "text": [
      "El minimo es :  10.0\n",
      "Con una subida del 20% se queda:  12.0\n"
     ]
    }
   ],
   "source": [
    "# Escribe aqui la respuesta\n",
    "\n",
    "a = float(input(\"Introduzca primer numero: \"))\n",
    "b = float(input(\"Introduzca segundo numero: \"))\n",
    "\n",
    "if a<b:\n",
    "    minimo = a\n",
    "\n",
    "elif b<a:\n",
    "    minimo = b\n",
    "    \n",
    "else:\n",
    "    ## la unica opcion que queda es que sean iguales\n",
    "    ## Puedo considerar que entonces minimo es cualquiera de ellos, elijo 'a' en este caso\n",
    "    minimo = a\n",
    "    \n",
    "print('El minimo es : ', minimo)\n",
    "\n",
    "## Ahora le sumamos el 20%\n",
    "\n",
    "resultado = minimo + (20*minimo/100)\n",
    "\n",
    "print('Con una subida del 20% se queda: ', resultado)\n",
    "\n",
    "\n"
   ]
  },
  {
   "cell_type": "markdown",
   "metadata": {
    "id": "d8LBB7Z7JMMf"
   },
   "source": [
    "\\"
   ]
  },
  {
   "cell_type": "markdown",
   "metadata": {
    "id": "JP-dKp9WJMJI"
   },
   "source": [
    "# TIPOS DE DATOS COMPUESTOS EN PYTHON Y SUS MÉTODOS MAS UTILIZADOS\n",
    "\n",
    "En Python, los tipos de datos compuestos son aquellos que pueden contener otros tipos de datos (simples, incluso otros compuestos). **Los tipos de datos compuestos más utilizados son las listas, tuplas y los diccionarios.**\n",
    "\n"
   ]
  },
  {
   "cell_type": "markdown",
   "metadata": {
    "id": "oSDk78CRZqrl"
   },
   "source": [
    "## Listas\n",
    "\n",
    "Las **listas** son una s**ecuencia de elementos** que pueden ser de cualquier tipo de datos. Se definen mediante corchetes [] y se separan los elementos con una coma."
   ]
  },
  {
   "cell_type": "code",
   "execution_count": 22,
   "metadata": {
    "id": "RWdcoZ_dRWLi"
   },
   "outputs": [],
   "source": [
    "# Ejemplo de una lista\n",
    "mi_lista = [1, 2, 3, \"Hola\", True]"
   ]
  },
  {
   "cell_type": "markdown",
   "metadata": {
    "id": "IJ0KyPCYJMF9"
   },
   "source": [
    "**Las listas son mutables**, lo que significa que **se pueden modificar** después de su creación. **Podemos acceder a posisiones individuales (primer, segundo elemento ...) especificando el número de orden en la lista entre corchetes**. Hay que tener en cuenta que en Python el primer elemento se corresponde con el CERO(0).\n",
    "Podemos acceder así a los elementos individuales para leerlos o cambiarlos:"
   ]
  },
  {
   "cell_type": "code",
   "execution_count": 23,
   "metadata": {
    "id": "0i4Cs9y-SJiS"
   },
   "outputs": [
    {
     "name": "stdout",
     "output_type": "stream",
     "text": [
      "[1, 2, 'Adiós', 'Hola', True]\n"
     ]
    }
   ],
   "source": [
    "mi_lista[2] = \"Adiós\"\n",
    "print(mi_lista)"
   ]
  },
  {
   "cell_type": "markdown",
   "metadata": {
    "id": "_d-nA6XrJMCk"
   },
   "source": [
    "También **podemos empezar a contar la posición desde el final de la lista**. En este caso se utilizan números negativos empezando por el [-1] para el último, [-2] para el penúltimo, etc:"
   ]
  },
  {
   "cell_type": "code",
   "execution_count": 24,
   "metadata": {
    "id": "JL29HJqoS1_0"
   },
   "outputs": [
    {
     "name": "stdout",
     "output_type": "stream",
     "text": [
      "Hola\n"
     ]
    }
   ],
   "source": [
    "print(mi_lista[-2])"
   ]
  },
  {
   "cell_type": "markdown",
   "metadata": {
    "id": "hVY-YeuNJL_B"
   },
   "source": [
    "Por último **podemos acceder a un rango continuo** (de tal posición a tal otra), especificando los límites separados por 2 puntos **(posición_inicial:posición_final)**.\n",
    "\n",
    "En Python **la posición inferior indicada en el rango se incluye pero la superior no**, veamos por ejemplo si queremos recuperar los 3 primeros elementos con un ejemplo:"
   ]
  },
  {
   "cell_type": "code",
   "execution_count": 25,
   "metadata": {
    "id": "Kno-jLIpUOOO",
    "tags": []
   },
   "outputs": [
    {
     "name": "stdout",
     "output_type": "stream",
     "text": [
      "Lista original:  [1, 2, 'Adiós', 'Hola', True]\n",
      "Recupero rango 0-3:  [1, 2, 'Adiós']\n"
     ]
    }
   ],
   "source": [
    "print('Lista original: ', mi_lista)\n",
    "\n",
    "print('Recupero rango 0-3: ', mi_lista[0:3])"
   ]
  },
  {
   "cell_type": "markdown",
   "metadata": {
    "id": "4WYThTVSTsyJ"
   },
   "source": [
    "Recupera las posiciones 0,1 y 2 (las 3 primeras) pero la 3 (posicion superior entre corchetes) NO"
   ]
  },
  {
   "cell_type": "markdown",
   "metadata": {
    "id": "t27rBUUuTt0O"
   },
   "source": [
    "### Algunas funciones y métodos de listas más usadas.\n",
    "\n",
    "Una de las **funciones mas utilizada** es **<len()>**, que devuelve el número de elementos de la lista.\n",
    "\n",
    "Las listas tienen una serie de métodos que permiten operar con ellas. Los métodos se llaman escribiendo un punto al final del nombre de la variable y a continuación el método.\n",
    "\n",
    "Algunos de los métodos más utilizados son:\n",
    "\n",
    "* `append()`: Añade un elemento al final de la lista, especificandolo entre paréntesis\n",
    "* `remove()`: Elimina un elemento de la lista (especificando su valor o nombre).\n",
    "* `sort()`: Ordena la lista de forma ascendente (solo si todos los elementos son del mismo tipo)\n",
    "* `reverse()`: Invierte el orden de la lista (solo si todos los elementos son del mismo tipo)"
   ]
  },
  {
   "cell_type": "code",
   "execution_count": 26,
   "metadata": {
    "id": "d9oF50ihXK_V"
   },
   "outputs": [
    {
     "name": "stdout",
     "output_type": "stream",
     "text": [
      "[1, 2, 'Adiós', 'Hola', True]\n"
     ]
    }
   ],
   "source": [
    "print(mi_lista)"
   ]
  },
  {
   "cell_type": "code",
   "execution_count": 27,
   "metadata": {
    "id": "Zfy2oxh9Xxtp"
   },
   "outputs": [
    {
     "name": "stdout",
     "output_type": "stream",
     "text": [
      "[1, 2, 'Adiós', 'Hola', True, 'Clodovedo IV']\n"
     ]
    }
   ],
   "source": [
    "mi_lista.append('Clodovedo IV')\n",
    "print(mi_lista)"
   ]
  },
  {
   "cell_type": "code",
   "execution_count": 28,
   "metadata": {
    "id": "FNxedOtMYgje"
   },
   "outputs": [
    {
     "name": "stdout",
     "output_type": "stream",
     "text": [
      "[1, 2, 'Adiós', True, 'Clodovedo IV']\n"
     ]
    }
   ],
   "source": [
    "mi_lista.remove('Hola')\n",
    "print(mi_lista)"
   ]
  },
  {
   "cell_type": "code",
   "execution_count": null,
   "metadata": {},
   "outputs": [],
   "source": []
  },
  {
   "cell_type": "markdown",
   "metadata": {
    "id": "QWvbKFvOTtq3"
   },
   "source": [
    "\\\n"
   ]
  },
  {
   "cell_type": "markdown",
   "metadata": {
    "id": "c4YMI_7ITtdr"
   },
   "source": [
    "## Tuplas\n",
    "\n",
    "Las Tuplas son similares a las listas, almacenan también una secuencia de elementos que pueden ser de cualquier tipo de datos. La diferencia es que las tuplas son inmutables, no se puede alterar su contenido.\n",
    "\n",
    "Se definen mediante paréntesis () y se separan los elementos con una coma.\n",
    "\n",
    "Se puede acceder a sus elementos individuales y a rangos de la misma forma como vimos en las listas"
   ]
  },
  {
   "cell_type": "code",
   "execution_count": 29,
   "metadata": {
    "id": "LwbL4Xs9a134"
   },
   "outputs": [
    {
     "name": "stdout",
     "output_type": "stream",
     "text": [
      "('Viernes', 'Sábado', 'Domingo')\n"
     ]
    }
   ],
   "source": [
    "dias_semana = ('Lunes', 'Martes', 'Miércoles', 'Jueves', 'Viernes', 'Sábado', 'Domingo')\n",
    "\n",
    "print(dias_semana[4:])  # si no especificas posición final del rango, recupera hasta el final"
   ]
  },
  {
   "cell_type": "code",
   "execution_count": 30,
   "metadata": {
    "id": "ff0FaFZHbvAc",
    "tags": []
   },
   "outputs": [
    {
     "ename": "TypeError",
     "evalue": "'tuple' object does not support item assignment",
     "output_type": "error",
     "traceback": [
      "\u001b[1;31m---------------------------------------------------------------------------\u001b[0m",
      "\u001b[1;31mTypeError\u001b[0m                                 Traceback (most recent call last)",
      "\u001b[1;32m~\\AppData\\Local\\Temp\\ipykernel_23788\\51044267.py\u001b[0m in \u001b[0;36m<module>\u001b[1;34m\u001b[0m\n\u001b[0;32m      1\u001b[0m \u001b[1;31m# Por mucho que queramos, no podemos cambiar los elementos de una tupla (son inmutables):\u001b[0m\u001b[1;33m\u001b[0m\u001b[1;33m\u001b[0m\u001b[0m\n\u001b[0;32m      2\u001b[0m \u001b[1;33m\u001b[0m\u001b[0m\n\u001b[1;32m----> 3\u001b[1;33m \u001b[0mdias_semana\u001b[0m\u001b[1;33m[\u001b[0m\u001b[1;36m0\u001b[0m\u001b[1;33m]\u001b[0m \u001b[1;33m=\u001b[0m \u001b[1;34m\"Infernal Lunes\"\u001b[0m\u001b[1;33m\u001b[0m\u001b[1;33m\u001b[0m\u001b[0m\n\u001b[0m",
      "\u001b[1;31mTypeError\u001b[0m: 'tuple' object does not support item assignment"
     ]
    }
   ],
   "source": [
    "# Por mucho que queramos, no podemos cambiar los elementos de una tupla (son inmutables):\n",
    "\n",
    "dias_semana[0] = \"Infernal Lunes\""
   ]
  },
  {
   "cell_type": "markdown",
   "metadata": {
    "id": "b4fmlwFycNGr"
   },
   "source": [
    "También se puede utilizar la función <len()> pero no los métodos vistos antes (append()...) ya que alteran el contenido y daría de nuevo error."
   ]
  },
  {
   "cell_type": "code",
   "execution_count": 31,
   "metadata": {
    "id": "_eHUvIYpcpVg"
   },
   "outputs": [
    {
     "ename": "AttributeError",
     "evalue": "'tuple' object has no attribute 'append'",
     "output_type": "error",
     "traceback": [
      "\u001b[1;31m---------------------------------------------------------------------------\u001b[0m",
      "\u001b[1;31mAttributeError\u001b[0m                            Traceback (most recent call last)",
      "\u001b[1;32m~\\AppData\\Local\\Temp\\ipykernel_23788\\910682304.py\u001b[0m in \u001b[0;36m<module>\u001b[1;34m\u001b[0m\n\u001b[1;32m----> 1\u001b[1;33m \u001b[0mdias_semana\u001b[0m\u001b[1;33m.\u001b[0m\u001b[0mappend\u001b[0m\u001b[1;33m(\u001b[0m\u001b[1;34m'Otro Domingo'\u001b[0m\u001b[1;33m)\u001b[0m\u001b[1;33m\u001b[0m\u001b[1;33m\u001b[0m\u001b[0m\n\u001b[0m",
      "\u001b[1;31mAttributeError\u001b[0m: 'tuple' object has no attribute 'append'"
     ]
    }
   ],
   "source": [
    "dias_semana.append('Otro Domingo')"
   ]
  },
  {
   "cell_type": "markdown",
   "metadata": {
    "id": "sSHoL1f3dd64"
   },
   "source": [
    "\\\n"
   ]
  },
  {
   "cell_type": "markdown",
   "metadata": {
    "id": "wxYiyY2Qdd3w"
   },
   "source": [
    "## Diccionarios\n",
    "\n",
    "Los **diccionarios** son una **estructura de datos que asocia claves a valores**. Las claves pueden ser de cualquier tipo de datos inmutable (usualmente cadena), mientras que los valores pueden ser de cualquier tipo de datos. Para cada par **se escribe primero la clave, después 2 puntos (:) y por último el valor, separando los distintos pares por comas.**\n",
    "\n",
    "**Las claves permiten acceder al valor correspondiente**, especificandole entre corchetes depués del nombre del diccionario:\n"
   ]
  },
  {
   "cell_type": "code",
   "execution_count": 32,
   "metadata": {
    "id": "TVXRbf0Cdx6l"
   },
   "outputs": [
    {
     "name": "stdout",
     "output_type": "stream",
     "text": [
      "Ana\n"
     ]
    }
   ],
   "source": [
    "cliente = {'Nombre': 'Ana', 'Apellido': 'Montes', 'edad': 78, 'activo': False}\n",
    "\n",
    "print(cliente['Nombre'])"
   ]
  },
  {
   "cell_type": "markdown",
   "metadata": {
    "id": "3gQ-sAOxdd1L"
   },
   "source": [
    "Los diccionarios si se pueden modificar:\n"
   ]
  },
  {
   "cell_type": "code",
   "execution_count": 33,
   "metadata": {
    "id": "4YFZkFvGe_eE"
   },
   "outputs": [
    {
     "name": "stdout",
     "output_type": "stream",
     "text": [
      "{'Nombre': 'Ana', 'Apellido': 'Montesdeoca', 'edad': 78, 'activo': False}\n"
     ]
    }
   ],
   "source": [
    "cliente['Apellido'] = 'Montesdeoca'\n",
    "\n",
    "print(cliente)"
   ]
  },
  {
   "cell_type": "markdown",
   "metadata": {},
   "source": [
    "Si la clave no existe, se añade al dicionario:"
   ]
  },
  {
   "cell_type": "code",
   "execution_count": 34,
   "metadata": {},
   "outputs": [
    {
     "name": "stdout",
     "output_type": "stream",
     "text": [
      "{'Nombre': 'Ana', 'Apellido': 'Montesdeoca', 'edad': 78, 'activo': False, 'tiene_prestamo': False}\n"
     ]
    }
   ],
   "source": [
    "cliente['tiene_prestamo'] = False\n",
    "\n",
    "print(cliente)"
   ]
  },
  {
   "cell_type": "markdown",
   "metadata": {
    "id": "ZS00bIopddwv"
   },
   "source": [
    "\\"
   ]
  },
  {
   "cell_type": "markdown",
   "metadata": {
    "id": "CujYXicqddmi"
   },
   "source": [
    "### Métodos más utilizados de los diccionarios\n",
    "\n",
    "Los diccionarios tienen una serie de métodos que permiten operar con ellos. Algunos de los métodos más utilizados son:\n",
    "\n",
    "* `keys()`: Devuelve una lista con las claves del diccionario.\n",
    "* `values()`: Devuelve una lista con los valores del diccionario.\n",
    "* `items()`: Devuelve una lista de tuplas con las claves y los valores del diccionario (útil para recorrer un diccionario, lo veremos)\n",
    "* `get()`: Devuelve el valor asociado a una clave.\n",
    "* `update()`: Añade o actualiza un par clave-valor del diccionario."
   ]
  },
  {
   "cell_type": "code",
   "execution_count": 35,
   "metadata": {
    "id": "A6HkXZun-xy3"
   },
   "outputs": [
    {
     "name": "stdout",
     "output_type": "stream",
     "text": [
      "dict_keys(['Nombre', 'Apellido', 'edad', 'activo', 'tiene_prestamo'])\n"
     ]
    }
   ],
   "source": [
    "print(cliente.keys())"
   ]
  },
  {
   "cell_type": "code",
   "execution_count": 36,
   "metadata": {
    "id": "eS1XEyiQf-HY"
   },
   "outputs": [
    {
     "name": "stdout",
     "output_type": "stream",
     "text": [
      "dict_values(['Ana', 'Montesdeoca', 78, False, False])\n"
     ]
    }
   ],
   "source": [
    "print(cliente.values())"
   ]
  },
  {
   "cell_type": "code",
   "execution_count": 37,
   "metadata": {
    "id": "ZVwXGDNUgOGJ"
   },
   "outputs": [
    {
     "name": "stdout",
     "output_type": "stream",
     "text": [
      "{'Nombre': 'Ana', 'Apellido': 'Montesdeoca', 'edad': 78, 'activo': False, 'tiene_prestamo': False, 'estado_civil': 'solter@'}\n"
     ]
    }
   ],
   "source": [
    "cliente.update({'estado_civil': 'solter@'})\n",
    "\n",
    "print(cliente)"
   ]
  },
  {
   "cell_type": "code",
   "execution_count": null,
   "metadata": {},
   "outputs": [],
   "source": []
  },
  {
   "cell_type": "markdown",
   "metadata": {},
   "source": [
    "**El método 'get' tiene la particularidad de poder especificar un valor por defecto a devolver, si no se encuentra la clave especificada en el diccionario:**"
   ]
  },
  {
   "cell_type": "code",
   "execution_count": 38,
   "metadata": {},
   "outputs": [
    {
     "data": {
      "text/plain": [
       "'Desconocida'"
      ]
     },
     "execution_count": 38,
     "metadata": {},
     "output_type": "execute_result"
    }
   ],
   "source": [
    "cliente.get('direccion', \"Desconocida\")"
   ]
  },
  {
   "cell_type": "markdown",
   "metadata": {
    "id": "SjGujFTPighR"
   },
   "source": [
    "\\"
   ]
  },
  {
   "cell_type": "markdown",
   "metadata": {
    "id": "vjIWjgrzxYXZ"
   },
   "source": [
    "# EJERCICIO 2.\n",
    "\n",
    "Tenemos un registro de alumnos de una clase en el que guardamos las notas de los parciales, para ello usamos un diccionario \"alumnos\". La clave es el nombre de pila del alumno, y el valor una lista con las notas (3 parciales). Se pide:\n",
    "\n",
    "- Dar de alta a una alumna \"Susana\". Para ello primero crearemos la lista con las 3 notas (sed benevolentes). Después añadiremos el elemento correspondiente (nombre: notas) al diccionario.\n",
    "- Consultar que notas ha sacado \"Pedro\"\n",
    "- Devolver alumnos que estan en la clase\n",
    "- (extra) ¿Podríamos modificar la nota del último parcial de \"Ana\"? Se ha portado bien como para subirle el 4.9"
   ]
  },
  {
   "cell_type": "code",
   "execution_count": 39,
   "metadata": {
    "id": "RCeUE2SDxyjK"
   },
   "outputs": [
    {
     "name": "stdout",
     "output_type": "stream",
     "text": [
      "Dada de alta Susana:\n",
      "{'Ana': [6.2, 7.5, 4.9], 'Pedro': [7.8, 9.3, 6.5], 'Rosa': [3.5, 6.2, 6.8], 'Susana': [5, 7, 9]}\n",
      "Las notas de Pedro son:  [7.8, 9.3, 6.5]\n",
      "Alumnos en clase:\n",
      "dict_keys(['Ana', 'Pedro', 'Rosa', 'Susana'])\n",
      "Nuevas notas de Ana:  [6.2, 7.5, 5]\n"
     ]
    }
   ],
   "source": [
    "# Notas de la clase:\n",
    "alumnos = {'Ana': [6.2, 7.5, 4.9], 'Pedro': [7.8, 9.3, 6.5], 'Rosa': [3.5, 6.2, 6.8]}\n",
    "\n",
    "# ESCRIBIR A PARTIR DE AQUI EL CÓDIGO\n",
    "\n",
    "## A) damos de alta a Susana. \n",
    "\n",
    "alumnos['Susana']= [5,7,9]\n",
    "\n",
    "# también valdría: \n",
    "alumnos.update({'Susana': [5,7,9]})\n",
    "\n",
    "print('Dada de alta Susana:')\n",
    "print(alumnos)\n",
    "\n",
    "\n",
    "## B) Consultar las notas de Pedro:\n",
    "\n",
    "print('Las notas de Pedro son: ', alumnos['Pedro'])\n",
    "\n",
    "\n",
    "## C) Devolver alumnos clase:\n",
    "\n",
    "print('Alumnos en clase:')\n",
    "print(alumnos.keys())\n",
    "\n",
    "\n",
    "## D) Modificar la nota del último parcial de Ana\n",
    "\n",
    "alumnos['Ana'][2] = 5\n",
    "print('Nuevas notas de Ana: ', alumnos['Ana'])\n",
    "\n"
   ]
  },
  {
   "cell_type": "markdown",
   "metadata": {
    "id": "U51MCpITx0Np"
   },
   "source": [
    "\\"
   ]
  },
  {
   "cell_type": "markdown",
   "metadata": {
    "id": "1uF_oReyigdq"
   },
   "source": [
    "# ESTRUCTURAS ITERATIVAS O BUCLES\n",
    "\n",
    "Las **estructuras iterativas** son un tipo de construcción de control de flujo que **permiten repetir un bloque de código una o varias veces**.\n",
    "\n",
    "**En Python, las estructuras iterativas más comunes son los bucles `for`** (útil en Python para recorrer tipos compuestos) **y `while`.**\n",
    "\n",
    "En la primera el número de repeticiones lo especificamos nosotros o viene dado por la longitud de la lista/tupla/diccionario a recorrer.\n",
    "En el segundo especificamos la condición que se debe cumplir para que se siga repitiendo el bloque de código del bucle."
   ]
  },
  {
   "cell_type": "markdown",
   "metadata": {
    "id": "kqzjTKPUigZh"
   },
   "source": [
    "\\\n"
   ]
  },
  {
   "cell_type": "markdown",
   "metadata": {
    "id": "fYOESNGZigVb"
   },
   "source": [
    "## **Bucle `for`**\n",
    "\n",
    "El bucle `for` se utiliza a menudo para recorrer los elementos de un  iterable como una lista, una tupla o un diccionario. La sintaxis del bucle `for` son las siguientes en cada caso:\n",
    "\n",
    "**NOTA**: aprovechamos este punto para introducir las llamadas \"**f-strings**\", que permiten personalizar de forma dinámica cadenas."
   ]
  },
  {
   "cell_type": "code",
   "execution_count": 40,
   "metadata": {
    "id": "B2bUSn8nkmtC"
   },
   "outputs": [
    {
     "name": "stdout",
     "output_type": "stream",
     "text": [
      "Entramos en el super......\n",
      "A buscar pan\n",
      "A buscar naranjas\n",
      "A buscar brocoli\n",
      "A buscar pechuga de pollo\n",
      "A buscar refresco\n",
      "Rápido a la caja\n"
     ]
    }
   ],
   "source": [
    "# recorrer una lista\n",
    "\n",
    "lista_compra = ['pan', 'naranjas', 'brocoli', 'pechuga de pollo', 'refresco']\n",
    "\n",
    "print('Entramos en el super......')\n",
    "\n",
    "for producto in lista_compra:\n",
    "  print(f'A buscar {producto}')     # uso f-string, especificamos entre llaves la expresión (variable, cálculo...) que queramos\n",
    "\n",
    "print('Rápido a la caja')\n"
   ]
  },
  {
   "cell_type": "markdown",
   "metadata": {
    "id": "cbgAy2IqmJtn"
   },
   "source": [
    "Una tupla se recorrería exactamente de la misma forma.\n",
    "\n",
    "Para los **diccionarios** es usual **recorrerlos valiendonos en el bucle 'for' del método <items()>** que nos devuelve los pares (tuplas clave-valor)."
   ]
  },
  {
   "cell_type": "code",
   "execution_count": 41,
   "metadata": {
    "id": "p3wfh6NXkmjf"
   },
   "outputs": [
    {
     "name": "stdout",
     "output_type": "stream",
     "text": [
      "Los datos del cliente son:\n",
      "Para el campo Nombre ===> Ana\n",
      "Para el campo Apellido ===> Montesdeoca\n",
      "Para el campo edad ===> 78\n",
      "Para el campo activo ===> False\n",
      "Para el campo tiene_prestamo ===> False\n",
      "Para el campo estado_civil ===> solter@\n"
     ]
    }
   ],
   "source": [
    "# recorrer diccionario\n",
    "\n",
    "print('Los datos del cliente son:')\n",
    "\n",
    "for clave, valor in cliente.items():\n",
    "  print(f'Para el campo {clave} ===> {valor}')"
   ]
  },
  {
   "cell_type": "markdown",
   "metadata": {
    "id": "uIxbV7mVndaD"
   },
   "source": [
    "El bucle **'for' tambien permite especificar el nº de veces que se quiere repetir el código mediante la función 'range'.**\n",
    "\n",
    "Incluso podemos especificar ciertos valores (inicio, final) y utilizarlos en el interior del bucle, como en otros lenguajes (**OJO**: de nuevo el extremo superior no se incluye)."
   ]
  },
  {
   "cell_type": "code",
   "execution_count": 42,
   "metadata": {
    "id": "zGLZchpooK9z",
    "tags": []
   },
   "outputs": [
    {
     "name": "stdout",
     "output_type": "stream",
     "text": [
      "Mañana hará mas calor\n",
      "Mañana hará mas calor\n",
      "Mañana hará mas calor\n"
     ]
    }
   ],
   "source": [
    "# repetir 3 veces:\n",
    "\n",
    "for iteracion in range(3):\n",
    "  print('Mañana hará mas calor')"
   ]
  },
  {
   "cell_type": "code",
   "execution_count": 43,
   "metadata": {
    "colab": {
     "base_uri": "https://localhost:8080/"
    },
    "id": "45CXz-47kmYv",
    "outputId": "844365f6-200e-4cd6-82b4-d9b815b8e10b"
   },
   "outputs": [
    {
     "name": "stdout",
     "output_type": "stream",
     "text": [
      "Estamos en la vuelta ... 1\n",
      "Estamos en la vuelta ... 2\n",
      "Estamos en la vuelta ... 3\n",
      "Estamos en la vuelta ... 4\n",
      "Estamos en la vuelta ... 5\n"
     ]
    }
   ],
   "source": [
    "# usar la \"cuenta\" en el interior, 5 vueltas:\n",
    "\n",
    "for numero in range(1,6):\n",
    "  print(f'Estamos en la vuelta ... {numero}')"
   ]
  },
  {
   "cell_type": "markdown",
   "metadata": {
    "id": "6DZGIn3EAjUi"
   },
   "source": [
    "Vemos que si queremos terminar la cuenta en <5>, la posición final del rango (a la derecho de los :) es el <6>"
   ]
  },
  {
   "cell_type": "markdown",
   "metadata": {
    "id": "lEfFmSKbigRD"
   },
   "source": [
    "\\"
   ]
  },
  {
   "cell_type": "markdown",
   "metadata": {
    "id": "FIOCv6KBigNl"
   },
   "source": [
    "## **Bucle `while`**\n",
    "\n",
    "El bucle `while` se utiliza para repetir un bloque de código mientras se cumpla una condición. La sintaxis del bucle `while` es la siguiente:\n",
    "\n",
    "while (condicion):\n",
    "\n",
    "\n",
    "> cuerpo bucle (codigo a repetir mintras se cumpla la condición)\n",
    "\n"
   ]
  },
  {
   "cell_type": "code",
   "execution_count": 44,
   "metadata": {
    "id": "Uu82qKumqd6K"
   },
   "outputs": [
    {
     "name": "stdout",
     "output_type": "stream",
     "text": [
      "ESCONDITE: contamos hasta 10\n",
      "1 ...\n",
      "2 ...\n",
      "3 ...\n",
      "4 ...\n",
      "5 ...\n",
      "6 ...\n",
      "7 ...\n",
      "8 ...\n",
      "9 ...\n",
      "10 ...\n",
      "voy a por ti ...\n"
     ]
    }
   ],
   "source": [
    "print('ESCONDITE: contamos hasta 10')\n",
    "\n",
    "cuenta = 1\n",
    "\n",
    "while cuenta<=10:\n",
    "  print(f'{cuenta} ...')\n",
    "  cuenta = cuenta + 1\n",
    "    \n",
    "print('voy a por ti ...')"
   ]
  },
  {
   "cell_type": "code",
   "execution_count": null,
   "metadata": {},
   "outputs": [],
   "source": []
  },
  {
   "cell_type": "markdown",
   "metadata": {
    "id": "p99xhHDrigKD"
   },
   "source": [
    "\\"
   ]
  },
  {
   "cell_type": "markdown",
   "metadata": {
    "id": "BKzan0MsigGt"
   },
   "source": [
    "## Instrucciones 'break' y 'continue'\n",
    "\n",
    "Las instrucciones **'break' y 'continue'** me **permiten en los bucles alterar su ejecución natural**, en el primer caso saliendo de forma abrupta del bucle (aunque no haya llegado a su fin) y en el segundo saltar a la siguiente iteración.\n",
    "\n",
    "Veamoslo con ejemplos:"
   ]
  },
  {
   "cell_type": "code",
   "execution_count": 45,
   "metadata": {
    "id": "Vp_IScqstcW9"
   },
   "outputs": [
    {
     "name": "stdout",
     "output_type": "stream",
     "text": [
      "('Lunes', 'Martes', 'Miércoles', 'Jueves', 'Viernes', 'Sábado', 'Domingo')\n",
      "Se acabó la jornada del Lunes, hasta mañana\n",
      "Se acabó la jornada del Martes, hasta mañana\n",
      "Se acabó la jornada del Miércoles, hasta mañana\n",
      "Se acabó la jornada del Jueves, hasta mañana\n",
      "¡Por fin es Viernes...! Buen finde a todos\n"
     ]
    }
   ],
   "source": [
    "# pase lo que pase, el viernes salgo \"escopetao\" del trabajo para casa:\n",
    "\n",
    "print(dias_semana)\n",
    "\n",
    "for dia in dias_semana:                                       # deberia recorrer todos los dias de la semana\n",
    "\n",
    "  if dia == 'Viernes':                                        # pero el Viernes me despido <break>\n",
    "    print('¡Por fin es Viernes...! Buen finde a todos')\n",
    "    break\n",
    "  else:\n",
    "    print(f'Se acabó la jornada del {dia}, hasta mañana')\n"
   ]
  },
  {
   "cell_type": "code",
   "execution_count": null,
   "metadata": {},
   "outputs": [],
   "source": []
  },
  {
   "cell_type": "markdown",
   "metadata": {
    "id": "HRsqo-NaigDi"
   },
   "source": [
    "Un ejemplo de 'continue':"
   ]
  },
  {
   "cell_type": "code",
   "execution_count": 46,
   "metadata": {
    "id": "TBsolhwNvwMT"
   },
   "outputs": [
    {
     "name": "stdout",
     "output_type": "stream",
     "text": [
      "['pan', 'naranjas', 'brocoli', 'pechuga de pollo', 'refresco']\n",
      "A buscar el/la pan....\n",
      "A buscar el/la naranjas....\n",
      "A buscar el/la pechuga de pollo....\n",
      "A buscar el/la refresco....\n",
      "Rapido a la caja ...\n"
     ]
    }
   ],
   "source": [
    "# a mi no me gusta el brocoli, no me lo pongas en la lista\n",
    "\n",
    "print(lista_compra)\n",
    "\n",
    "for elemento in lista_compra:\n",
    "\n",
    "  if elemento=='brocoli':\n",
    "    continue\n",
    "\n",
    "  else:\n",
    "    print(f'A buscar el/la {elemento}....')\n",
    "\n",
    "print('Rapido a la caja ...')"
   ]
  },
  {
   "cell_type": "markdown",
   "metadata": {
    "id": "ngMLa-PZif_0"
   },
   "source": [
    "\\"
   ]
  },
  {
   "cell_type": "markdown",
   "metadata": {
    "id": "Oj7CEuHhddjH"
   },
   "source": [
    "# EJERCICIO 3.\n",
    "\n",
    "Escribir un código para introducir las notas de alumnos de una clase (solo las notas) y almacenarlas en alguna estructura. Debe pedir introducir notas por teclado continuamente hasta que el usuario escriba una nota negativa, entonces habra finalizado.\n",
    "\n",
    "Finalmente sacar por pantalla todas las notas, una por linea.\n",
    "\n",
    "**NOTA ADICIONAL**: como recordaran 'input' (para pedir datos por teclado) devuelve una cadena. Para convertirla a numero debemos emplear por ejemplo:\n",
    "\n",
    "nota = float(input('Introduzca nota: '))\n",
    "\n",
    "'float' es un conversor (\"cast\"), una función para variar el tipo de una variable, en este caso a decimal (flotante)\n",
    "\n",
    "\n",
    "\n",
    "\n",
    "\n"
   ]
  },
  {
   "cell_type": "code",
   "execution_count": 47,
   "metadata": {
    "colab": {
     "base_uri": "https://localhost:8080/"
    },
    "id": "tQT3ARPO1YeH",
    "outputId": "59bb2767-db88-45c0-851c-19e79fdae4df"
   },
   "outputs": [
    {
     "name": "stdin",
     "output_type": "stream",
     "text": [
      "Introduzca nota:  5\n",
      "Introduzca nota:  7\n",
      "Introduzca nota:  10\n",
      "Introduzca nota:  -3\n"
     ]
    },
    {
     "name": "stdout",
     "output_type": "stream",
     "text": [
      "5.0\n",
      "7.0\n",
      "10.0\n"
     ]
    }
   ],
   "source": [
    "## Escribe aquí el código\n",
    "\n",
    "# también valdria: notas = list()\n",
    "notas = []\n",
    "\n",
    "nota = 0\n",
    "# o cualquier nº positivo, para que entre en el while de primeras\n",
    "\n",
    "while nota>=0:\n",
    "    \n",
    "    nota = float(input('Introduzca nota: '))\n",
    "    \n",
    "    if nota>=0:\n",
    "        notas.append(nota)\n",
    "        \n",
    "for elemento in notas:\n",
    "    print(elemento)\n",
    "\n",
    "\n"
   ]
  },
  {
   "cell_type": "markdown",
   "metadata": {
    "id": "UEB66OdYD9f1"
   },
   "source": [
    "\\"
   ]
  },
  {
   "cell_type": "markdown",
   "metadata": {
    "id": "OWHJD7vgD9cn"
   },
   "source": [
    "# **FUNCIONES EN PYTHON. PARÁMETROS. LLAMADA A UNA FUNCIÓN**\n",
    "\n",
    "Las **funciones** son **bloques de código que se pueden reutilizar en un programa**. Permiten dividir el código en partes más pequeñas y fáciles de entender y mantener.\n",
    "\n"
   ]
  },
  {
   "cell_type": "markdown",
   "metadata": {
    "id": "qK1qVYv3E6jB"
   },
   "source": [
    "## **Definición de una función**\n",
    "\n",
    "Para definir una función en Python, se utiliza la **palabra clave `def`**. La sintaxis es la siguiente:"
   ]
  },
  {
   "cell_type": "markdown",
   "metadata": {
    "id": "-3gSTR8UEZa-"
   },
   "source": [
    "\n",
    "\n",
    "def nombre_funcion(parametros):\n",
    "    \n",
    "    código de la función\n",
    "\n",
    "    return valor_retorno\n",
    "\n"
   ]
  },
  {
   "cell_type": "markdown",
   "metadata": {
    "id": "WGhKtnu8D9ZE"
   },
   "source": [
    "* `nombre_funcion`: es el nombre de la función. Debe ser un identificador válido en Python.\n",
    "* `parametros`: son los valores que la función puede recibir como datos de entrada. Se pueden definir tantos parámetros como sea necesario, separados por comas.\n",
    "* `código de la función`: es el código que se ejecuta cuando se llama a la función.\n",
    "* `return valor_retorno`: palabra clave 'return' seguido del valor que la función devuelve. Si no se especifica un valor de retorno, la función devolverá `None` (valor nulo en Python)\n",
    "\n",
    "**Ejemplos**"
   ]
  },
  {
   "cell_type": "code",
   "execution_count": 48,
   "metadata": {
    "id": "I4wHKH3GFqKV"
   },
   "outputs": [],
   "source": [
    "# Función que suma dos números\n",
    "def suma(a, b):\n",
    "    return a + b\n",
    "\n",
    "# Función que imprime un saludo\n",
    "def saludo(nombre):\n",
    "    print(\"Hola, \" + nombre)\n",
    "\n",
    "# Función que calcula el área de un círculo\n",
    "def area_circulo(radio):\n",
    "    return 3.14 * radio ** 2\n",
    "\n"
   ]
  },
  {
   "cell_type": "markdown",
   "metadata": {
    "id": "DOS7hED_D9VI"
   },
   "source": [
    "Una vez definidas las funciones **las podemos utilizar en cualquier parte posterior del código, llamandolas por su nombre y pasándoles los parámetros de entrada:**"
   ]
  },
  {
   "cell_type": "code",
   "execution_count": 49,
   "metadata": {
    "colab": {
     "base_uri": "https://localhost:8080/"
    },
    "id": "XBABdpoSGCWE",
    "outputId": "7463fef4-cbc6-47e4-9b5a-87931f09e20e"
   },
   "outputs": [
    {
     "name": "stdout",
     "output_type": "stream",
     "text": [
      "7\n",
      "3.14\n",
      "Hola, Paco\n"
     ]
    }
   ],
   "source": [
    "print(suma(2,5))\n",
    "\n",
    "print(area_circulo(1))\n",
    "\n",
    "saludo('Paco')\n"
   ]
  },
  {
   "cell_type": "markdown",
   "metadata": {
    "id": "jqwvfsJCGDN2"
   },
   "source": [
    "\\"
   ]
  },
  {
   "cell_type": "markdown",
   "metadata": {
    "id": "QGASSs6fGDKB"
   },
   "source": [
    "## **Parámetros. Tipos.**\n",
    "\n",
    "Los **parámetros** son los **valores de entrada** que la función puede recibir. Se pueden definir tantos parámetros como sea necesario (de tipos de dato simple o compuesto) separados por comas."
   ]
  },
  {
   "cell_type": "code",
   "execution_count": null,
   "metadata": {},
   "outputs": [],
   "source": []
  },
  {
   "cell_type": "markdown",
   "metadata": {
    "id": "a33QIRmJGDG6"
   },
   "source": [
    "**Tipos de parámetros**\n",
    "\n",
    "Atendiendo a **cómo son especificados en la llamada** a su función, los **parámetros** pueden ser **posicionales o por nombre**.\n",
    "\n",
    "Los **parámetros** también admiten que especifiquemos un **valor predeterminado (parámetros por defecto)**"
   ]
  },
  {
   "cell_type": "markdown",
   "metadata": {
    "id": "3DdJdfrCGDDQ"
   },
   "source": [
    "### **Parámetros posicionales**\n",
    "\n",
    "Los parámetros posicionales son los que se pasan a la función en el mismo orden en que se especificaron en la definición de la función."
   ]
  },
  {
   "cell_type": "code",
   "execution_count": 50,
   "metadata": {
    "id": "FMvyzwo5JWw2"
   },
   "outputs": [
    {
     "name": "stdout",
     "output_type": "stream",
     "text": [
      "30\n"
     ]
    }
   ],
   "source": [
    "def suma(a, b):\n",
    "    return a + b\n",
    "\n",
    "print(suma(10, 20))    # \"a\" contiene el 10 y \"b\" contiene el 20"
   ]
  },
  {
   "cell_type": "markdown",
   "metadata": {
    "id": "6e-cwkuUJvmn"
   },
   "source": [
    "### **Parámetros por nombre**\n",
    "\n",
    "Los **parámetros por nombre** son los que se pasan a la función utilizando el nombre del parámetro. No tienen por que respetar el orden que tenian en la definición de la función.\n",
    "\n"
   ]
  },
  {
   "cell_type": "code",
   "execution_count": 51,
   "metadata": {
    "id": "SqetwsFmJvmy"
   },
   "outputs": [
    {
     "name": "stdout",
     "output_type": "stream",
     "text": [
      "30\n"
     ]
    }
   ],
   "source": [
    "def suma(a, b):\n",
    "    return a + b\n",
    "\n",
    "print(suma(b=20, a=10))"
   ]
  },
  {
   "cell_type": "markdown",
   "metadata": {
    "id": "_huFXrclJyUK"
   },
   "source": [
    "### **Parámetros por defecto**\n",
    "\n",
    "Los **parámetros por defecto** toman como **valores los predeterminados en la definición de la función SI no se proporciona ningún valor** al llamar a dicha función."
   ]
  },
  {
   "cell_type": "code",
   "execution_count": 52,
   "metadata": {
    "colab": {
     "base_uri": "https://localhost:8080/"
    },
    "id": "1paJs4FhJyUT",
    "outputId": "4b3eb0c0-ef04-4c0f-de77-48fea2abab99"
   },
   "outputs": [
    {
     "name": "stdout",
     "output_type": "stream",
     "text": [
      "Hola Pepe\n"
     ]
    }
   ],
   "source": [
    "def saludo(nombre=\"Mundo\"):\n",
    "    print(\"Hola \" + nombre)\n",
    "\n",
    "# si no especificamos el valor del parámetro entre paréntesis en la llamada, toma el valor predeterminado en la definición\n",
    "saludo('Pepe')"
   ]
  },
  {
   "cell_type": "markdown",
   "metadata": {
    "id": "NdZnfwazD84B"
   },
   "source": [
    "NOTA: a la hora de definir una función con varios parámetros, si tiene parámetros por defecto se deben especificar los últimos, depués del resto de parámetros"
   ]
  },
  {
   "cell_type": "code",
   "execution_count": 53,
   "metadata": {
    "colab": {
     "base_uri": "https://localhost:8080/"
    },
    "id": "4L1PmjG3NbCA",
    "outputId": "17dbaf90-80c9-4be6-d636-8b02e61567a2"
   },
   "outputs": [
    {
     "name": "stdout",
     "output_type": "stream",
     "text": [
      "El cliente Ana tiene a finales de Enero un saldo de: 15000\n"
     ]
    }
   ],
   "source": [
    "# FORMA CORRECTA: parámetro por defecto \"mes\" después del resto en la definición\n",
    "\n",
    "def extracto_mensual(cliente, saldo, mes='Enero'):\n",
    "  print(f'El cliente {cliente} tiene a finales de {mes} un saldo de: {saldo}')\n",
    "\n",
    "extracto_mensual('Ana',15000)"
   ]
  },
  {
   "cell_type": "code",
   "execution_count": 54,
   "metadata": {
    "colab": {
     "base_uri": "https://localhost:8080/",
     "height": 141
    },
    "id": "9SK6WUYaOaFj",
    "outputId": "f7e38be3-c120-4860-a3d6-191e1b05bfcd"
   },
   "outputs": [
    {
     "ename": "SyntaxError",
     "evalue": "non-default argument follows default argument (3176964892.py, line 3)",
     "output_type": "error",
     "traceback": [
      "\u001b[1;36m  File \u001b[1;32m\"C:\\Users\\edurp\\AppData\\Local\\Temp\\ipykernel_23788\\3176964892.py\"\u001b[1;36m, line \u001b[1;32m3\u001b[0m\n\u001b[1;33m    def extracto_mensual(cliente, mes='Enero', saldo):\u001b[0m\n\u001b[1;37m                                                    ^\u001b[0m\n\u001b[1;31mSyntaxError\u001b[0m\u001b[1;31m:\u001b[0m non-default argument follows default argument\n"
     ]
    }
   ],
   "source": [
    "# FORMA INCORRECTA:\n",
    "\n",
    "def extracto_mensual(cliente, mes='Enero', saldo):\n",
    "  print(f'El cliente {cliente} tiene a finales de {mes} un saldo de: {saldo}')"
   ]
  },
  {
   "cell_type": "markdown",
   "metadata": {
    "id": "2KT01N0dNBcl"
   },
   "source": [
    "\\"
   ]
  },
  {
   "cell_type": "code",
   "execution_count": null,
   "metadata": {},
   "outputs": [],
   "source": []
  },
  {
   "cell_type": "markdown",
   "metadata": {
    "id": "2jVJBbE1dSoJ",
    "tags": []
   },
   "source": [
    "# EJERCICIO 4.\n",
    "\n",
    "El código para calcular la media de una serie de números lo podemos volver a necesitar. En vez de repetirlo (o copiar y pegar) podemos crearnos una función y llamarla siempre que la necesitemos (**principios de reutilización y ordenación del código**).\n",
    "\n",
    "Como entrada (parámetro) tendriamos una lista con las notas. La función devolvería la media calculada.\n",
    "\n",
    "Escribir dicha función."
   ]
  },
  {
   "cell_type": "code",
   "execution_count": 55,
   "metadata": {
    "id": "9pTQaqjweYnU"
   },
   "outputs": [],
   "source": [
    "# ESCRIBIR AQUÍ EL CÓDIGO DE LA FUNCIÓN \n",
    "\n",
    "def media_lista(lista):\n",
    "    \n",
    "    suma = 0\n",
    "    for elemento in lista:\n",
    "        suma = suma + elemento\n",
    "        \n",
    "    return suma/len(lista)   \n",
    "    \n"
   ]
  },
  {
   "cell_type": "code",
   "execution_count": null,
   "metadata": {},
   "outputs": [],
   "source": []
  },
  {
   "cell_type": "code",
   "execution_count": 56,
   "metadata": {
    "colab": {
     "base_uri": "https://localhost:8080/"
    },
    "id": "6bkanEdDp6H_",
    "outputId": "8a3fb70d-79c6-48c1-ec0d-720413512237"
   },
   "outputs": [
    {
     "data": {
      "text/plain": [
       "54.8"
      ]
     },
     "execution_count": 56,
     "metadata": {},
     "output_type": "execute_result"
    }
   ],
   "source": [
    "# PROBARLA CON UN EJEMPLO\n",
    "\n",
    "medidas = [45, 36,85,96,12]\n",
    "\n",
    "media_lista(medidas)\n",
    "\n",
    "\n",
    "\n"
   ]
  },
  {
   "cell_type": "code",
   "execution_count": null,
   "metadata": {
    "colab": {
     "base_uri": "https://localhost:8080/"
    },
    "id": "oa-zT0l3sTfu",
    "outputId": "80e1f072-6411-4bb0-a2ca-077a406ced86"
   },
   "outputs": [],
   "source": []
  },
  {
   "cell_type": "markdown",
   "metadata": {
    "id": "w4vtdlQkdSfT"
   },
   "source": [
    "\\"
   ]
  },
  {
   "cell_type": "markdown",
   "metadata": {
    "id": "vC29KXwWNBX-"
   },
   "source": [
    "# OBJETOS. USO DE OBJETOS: ATRIBUTOS Y MÉTODOS\n",
    "\n",
    "Dentro del paradigma de la **Programación Orientada a Objetos (POO)**, podemos definir de forma rápida un **objeto** como **una entidad que tiene unas características (atributos o propiedades) y unos métodos (acciones)**. Los objetos se crean a partir de la definición de una clase.\n",
    "\n",
    "Un ejemplo en la vida real seria definir la Clase \"Vehículo\", por ejemplo con las propiedades \"color\", \"numero_de_pasajeros\", \"matricula\", etc. Como acciones puede tener \"acelerar()\", \"fenar()\", etc. Cada objeto que crearamos de esta clase tendría sus propios atributos y métodos.\n",
    "\n",
    "**Dentro del mundo de los datos es más frecuente USAR objetos ya creados en librerías, que tener que crear nosotros objetos** (mediante Clases), y en eso nos vamos a centrar. Entrar en detalle en la POO escapa de las necesidades, objetivo y tiempo de este curso.\n",
    "\n",
    "Sin darnos cuenta nosotros ya hemos usado objetos, ya que Python considera a todos los tipos de datos (incluso los simples) como objetos.\n",
    "\n",
    "\n"
   ]
  },
  {
   "cell_type": "code",
   "execution_count": null,
   "metadata": {},
   "outputs": [],
   "source": []
  },
  {
   "cell_type": "markdown",
   "metadata": {
    "id": "bdoU0zYKNBTa"
   },
   "source": [
    "## Ejemplos: métodos de las listas y diccionarios. Métodos de las cadenas.\n",
    "\n",
    "**En el fondo Python considera a todos los tipos de datos** que hemos visto (simples: numéricos, cadenas... ; compuestos: listas, diccionarios..) **como objetos** (objetos sencillos).\n",
    "\n",
    "De hecho **hemos visto en apartados anteriores los métodos de los objetos listas (p.ejplo <append()>) o de los objetos diccionarios (<items()>).**\n",
    "\n",
    "Para afianzar el concepto de uso de objetos vamos a ver algunos métodos de los más utilizados para cadenas (str):\n",
    "\n",
    "* `upper()`: Devuelve una cadena con todos los caracteres en mayúsculas.\n",
    "* `lower()`: Devuelve una cadena con todos los caracteres en minúsculas."
   ]
  },
  {
   "cell_type": "code",
   "execution_count": 57,
   "metadata": {
    "colab": {
     "base_uri": "https://localhost:8080/"
    },
    "id": "64b9hSCTYwQa",
    "outputId": "2e9d58ae-dcb5-4c8d-ba08-8852e4910ca1"
   },
   "outputs": [
    {
     "name": "stdout",
     "output_type": "stream",
     "text": [
      "HOLA MUNDO\n",
      "hola mundo\n"
     ]
    }
   ],
   "source": [
    "cadena = \"Hola mundo\"       # \"instanciamos\" o \"iniciamos\" el objeto cadena\n",
    "\n",
    "print(cadena.upper())       # Llamamos al método correspondiente, escribiendo\n",
    "print(cadena.lower())       # nombre_objeto.metodo()"
   ]
  },
  {
   "cell_type": "markdown",
   "metadata": {
    "id": "8TSsDIbNNBP9"
   },
   "source": [
    "* `find()`: Devuelve el índice de la primera aparición de una subcadena dentro de una cadena, si no está devuelve -1.\n",
    "* `count()`: Devuelve el número de veces que aparece una subcadena dentro de una cadena."
   ]
  },
  {
   "cell_type": "code",
   "execution_count": 58,
   "metadata": {
    "colab": {
     "base_uri": "https://localhost:8080/"
    },
    "id": "qpeP7Wt2aIXf",
    "outputId": "7a010821-a122-4e37-db2b-9a1b3f63d052"
   },
   "outputs": [
    {
     "name": "stdout",
     "output_type": "stream",
     "text": [
      "13\n",
      "3\n"
     ]
    }
   ],
   "source": [
    "cadena = \"¿Has visto a Paco hoy?\"\n",
    "\n",
    "print(cadena.find(\"Paco\"))\n",
    "\n",
    "print(cadena.count(\"o\"))"
   ]
  },
  {
   "cell_type": "markdown",
   "metadata": {
    "id": "POiTs716V5Ic"
   },
   "source": [
    "* `replace()`: Devuelve una cadena con una subcadena sustituida por otra.\n",
    "* `split()`: Devuelve una lista de subcadenas delimitadas por un separador especificado entre parentesis (por defecto si no ponemos nada un espacio)."
   ]
  },
  {
   "cell_type": "code",
   "execution_count": null,
   "metadata": {},
   "outputs": [],
   "source": []
  },
  {
   "cell_type": "code",
   "execution_count": 59,
   "metadata": {
    "colab": {
     "base_uri": "https://localhost:8080/"
    },
    "id": "LEbUFIjGbJVw",
    "outputId": "d9d4d0dd-d7de-4024-f95d-7db01742c515"
   },
   "outputs": [
    {
     "name": "stdout",
     "output_type": "stream",
     "text": [
      "Hola universo\n",
      "['Hol', ' mundo']\n"
     ]
    }
   ],
   "source": [
    "cadena = \"Hola mundo\"\n",
    "\n",
    "print(cadena.replace(\"mundo\", \"universo\"))\n",
    "\n",
    "print(cadena.split('a'))      # nos sirve para separar las palabras en una frase"
   ]
  },
  {
   "cell_type": "markdown",
   "metadata": {
    "id": "DC3d6fj8V5F6"
   },
   "source": [
    "**DUDA:**\n",
    "¿por qué el segundo resultado no contine 'universo', sino 'mundo'?"
   ]
  },
  {
   "cell_type": "markdown",
   "metadata": {},
   "source": [
    "**Respuesta:** En la segunda línea el método \"replace\" devuelve un valor, no cambia la estructura de datos original (la cadena), por lo tanto caden sigue conteniendo \"mundo\""
   ]
  },
  {
   "cell_type": "code",
   "execution_count": null,
   "metadata": {},
   "outputs": [],
   "source": []
  },
  {
   "cell_type": "code",
   "execution_count": null,
   "metadata": {},
   "outputs": [],
   "source": []
  },
  {
   "cell_type": "markdown",
   "metadata": {
    "id": "2jVJBbE1dSoJ",
    "tags": []
   },
   "source": [
    "# EJERCICIO 5.\n",
    "\n",
    "Escribir una función que reciba como entrada una cadena de nombres en minúsculas se paradas por espacio y un nombre (cadena) determinado. Si el nombre se encuentra en la lista debe sacar por pantalla dicho nombre en MAYÚSCULAS. Si no está en la cadena sacar un mensaje personalizado notificándolo."
   ]
  },
  {
   "cell_type": "code",
   "execution_count": 60,
   "metadata": {
    "id": "9pTQaqjweYnU"
   },
   "outputs": [],
   "source": [
    "# ESCRIBIR AQUÍ EL CÓDIGO DE LA FUNCIÓN \n",
    "\n",
    "def buscar_palabra(cadena,palabra):\n",
    "    if cadena.find(palabra)>=0:\n",
    "        print(palabra.upper())\n",
    "    else:\n",
    "        print(\"Nombre no encontrado\")\n",
    "    \n",
    "    \n",
    "\n",
    "\n"
   ]
  },
  {
   "cell_type": "code",
   "execution_count": null,
   "metadata": {},
   "outputs": [],
   "source": []
  },
  {
   "cell_type": "code",
   "execution_count": 64,
   "metadata": {
    "colab": {
     "base_uri": "https://localhost:8080/"
    },
    "id": "6bkanEdDp6H_",
    "outputId": "8a3fb70d-79c6-48c1-ec0d-720413512237"
   },
   "outputs": [
    {
     "name": "stdout",
     "output_type": "stream",
     "text": [
      "ANA\n"
     ]
    }
   ],
   "source": [
    "# PROBARLA CON EL EJEMPLO, buscando distintos nombres\n",
    "\n",
    "ejemplo = 'pepe francisco ana rosa mario'\n",
    "\n",
    "# Caso: SÍ está la palabra\n",
    "\n",
    "buscar_palabra(ejemplo, 'ana')"
   ]
  },
  {
   "cell_type": "code",
   "execution_count": null,
   "metadata": {
    "colab": {
     "base_uri": "https://localhost:8080/"
    },
    "id": "oa-zT0l3sTfu",
    "outputId": "80e1f072-6411-4bb0-a2ca-077a406ced86"
   },
   "outputs": [],
   "source": []
  },
  {
   "cell_type": "code",
   "execution_count": 65,
   "metadata": {},
   "outputs": [
    {
     "name": "stdout",
     "output_type": "stream",
     "text": [
      "Nombre no encontrado\n"
     ]
    }
   ],
   "source": [
    "# Caso: NO está la palabra\n",
    "\n",
    "buscar_palabra(ejemplo,'alfredo')"
   ]
  },
  {
   "cell_type": "code",
   "execution_count": null,
   "metadata": {},
   "outputs": [],
   "source": []
  },
  {
   "cell_type": "markdown",
   "metadata": {},
   "source": [
    "# EJERCICIO 6.\n",
    "\n",
    "¿Se podría devolver la posición que se encuentra entre los nombres?\n",
    "**PISTA**: método split() de cadena y recorrer la lista (buscar en internet por término 'python enumerate')"
   ]
  },
  {
   "cell_type": "markdown",
   "metadata": {},
   "source": [
    "**Vamos a ir \"refinando\" la solución (solo para que vean varias opciones)**"
   ]
  },
  {
   "cell_type": "code",
   "execution_count": 66,
   "metadata": {},
   "outputs": [],
   "source": [
    "def posicion_en_lista_1(listado, nombre):\n",
    "    for indice, palabra in enumerate(listado.split()):\n",
    "        if palabra==nombre:\n",
    "            print(f'{nombre} se encuentra en la posicion {indice+1}')\n",
    "            \n",
    "                      \n",
    "       "
   ]
  },
  {
   "cell_type": "code",
   "execution_count": 67,
   "metadata": {
    "tags": []
   },
   "outputs": [
    {
     "data": {
      "text/plain": [
       "'pepe francisco ana rosa mario'"
      ]
     },
     "execution_count": 67,
     "metadata": {},
     "output_type": "execute_result"
    }
   ],
   "source": [
    "ejemplo"
   ]
  },
  {
   "cell_type": "code",
   "execution_count": 68,
   "metadata": {},
   "outputs": [
    {
     "name": "stdout",
     "output_type": "stream",
     "text": [
      "ana se encuentra en la posicion 3\n"
     ]
    }
   ],
   "source": [
    "# caso \"si se encuentra\"\n",
    "\n",
    "posicion_en_lista_1(ejemplo,'ana')"
   ]
  },
  {
   "cell_type": "code",
   "execution_count": null,
   "metadata": {},
   "outputs": [],
   "source": []
  },
  {
   "cell_type": "code",
   "execution_count": 69,
   "metadata": {},
   "outputs": [],
   "source": [
    "# caso \"no se encuentra\"\n",
    "\n",
    "posicion_en_lista_1(ejemplo,'alberto')"
   ]
  },
  {
   "cell_type": "code",
   "execution_count": null,
   "metadata": {},
   "outputs": [],
   "source": []
  },
  {
   "cell_type": "markdown",
   "metadata": {},
   "source": [
    "**No presenta mensaje en caso de que no encuentre, vamos a \"refinar\"**"
   ]
  },
  {
   "cell_type": "code",
   "execution_count": 70,
   "metadata": {},
   "outputs": [],
   "source": [
    "\n",
    "def posicion_en_lista_2(listado, nombre):\n",
    "    \n",
    "    encontrado = False\n",
    "    \n",
    "    for indice, palabra in enumerate(listado.split()):\n",
    "        if palabra==nombre:\n",
    "            print(f'{nombre} se encuentra en la posicion {indice+1}')\n",
    "            encontrado = True\n",
    "            \n",
    "    if not encontrado:\n",
    "        print(f'{nombre} no se encuentra en la lista')\n",
    "            \n",
    "            \n",
    "            "
   ]
  },
  {
   "cell_type": "code",
   "execution_count": 71,
   "metadata": {},
   "outputs": [
    {
     "data": {
      "text/plain": [
       "'pepe francisco ana rosa mario'"
      ]
     },
     "execution_count": 71,
     "metadata": {},
     "output_type": "execute_result"
    }
   ],
   "source": [
    "ejemplo"
   ]
  },
  {
   "cell_type": "code",
   "execution_count": 72,
   "metadata": {},
   "outputs": [
    {
     "name": "stdout",
     "output_type": "stream",
     "text": [
      "mario se encuentra en la posicion 5\n"
     ]
    }
   ],
   "source": [
    "# caso \"si se encuentra\"\n",
    "\n",
    "posicion_en_lista_2(ejemplo,'mario')"
   ]
  },
  {
   "cell_type": "code",
   "execution_count": null,
   "metadata": {},
   "outputs": [],
   "source": []
  },
  {
   "cell_type": "code",
   "execution_count": 73,
   "metadata": {},
   "outputs": [
    {
     "name": "stdout",
     "output_type": "stream",
     "text": [
      "alfredo no se encuentra en la lista\n"
     ]
    }
   ],
   "source": [
    "# caso \"no se encuentra\"\n",
    "\n",
    "posicion_en_lista_2(ejemplo,'alfredo')"
   ]
  },
  {
   "cell_type": "code",
   "execution_count": null,
   "metadata": {},
   "outputs": [],
   "source": []
  },
  {
   "cell_type": "markdown",
   "metadata": {},
   "source": [
    "**ALGO UN POCO MAS AVANZADO:** En Python 'break' también se puede utilizar con la estructura condicional 'if', de esta forma si ya encontramos el nombre no seguimos buscando"
   ]
  },
  {
   "cell_type": "code",
   "execution_count": null,
   "metadata": {},
   "outputs": [],
   "source": []
  },
  {
   "cell_type": "code",
   "execution_count": 74,
   "metadata": {},
   "outputs": [],
   "source": [
    "\n",
    "def posicion_en_lista_3(listado, nombre):\n",
    "    \n",
    "    encontrado = False\n",
    "    \n",
    "    for indice, palabra in enumerate(listado.split()):\n",
    "        if palabra==nombre:\n",
    "            print(f'{nombre} se encuentra en la posicion {indice+1}')\n",
    "            encontrado = True\n",
    "            break\n",
    "            print('no se lo que es break')\n",
    "            \n",
    "    if not encontrado:\n",
    "        print(f'{nombre} no se encuentra en la lista')\n",
    "            \n",
    "            \n",
    "            "
   ]
  },
  {
   "cell_type": "code",
   "execution_count": 75,
   "metadata": {},
   "outputs": [
    {
     "data": {
      "text/plain": [
       "'pepe francisco ana rosa mario'"
      ]
     },
     "execution_count": 75,
     "metadata": {},
     "output_type": "execute_result"
    }
   ],
   "source": [
    "ejemplo"
   ]
  },
  {
   "cell_type": "code",
   "execution_count": 76,
   "metadata": {},
   "outputs": [
    {
     "name": "stdout",
     "output_type": "stream",
     "text": [
      "francisco se encuentra en la posicion 2\n"
     ]
    }
   ],
   "source": [
    "# caso \"si se encuentra\"\n",
    "\n",
    "posicion_en_lista_3(ejemplo,'francisco')"
   ]
  },
  {
   "cell_type": "code",
   "execution_count": null,
   "metadata": {},
   "outputs": [],
   "source": []
  },
  {
   "cell_type": "code",
   "execution_count": 77,
   "metadata": {},
   "outputs": [
    {
     "name": "stdout",
     "output_type": "stream",
     "text": [
      "alfredo no se encuentra en la lista\n"
     ]
    }
   ],
   "source": [
    "# caso \"no se encuentra\"\n",
    "\n",
    "posicion_en_lista_3(ejemplo,'alfredo')"
   ]
  },
  {
   "cell_type": "code",
   "execution_count": null,
   "metadata": {},
   "outputs": [],
   "source": []
  },
  {
   "cell_type": "code",
   "execution_count": null,
   "metadata": {},
   "outputs": [],
   "source": []
  },
  {
   "cell_type": "code",
   "execution_count": null,
   "metadata": {},
   "outputs": [],
   "source": []
  }
 ],
 "metadata": {
  "colab": {
   "provenance": [],
   "toc_visible": true
  },
  "kernelspec": {
   "display_name": "Python 3 (ipykernel)",
   "language": "python",
   "name": "python3"
  },
  "language_info": {
   "codemirror_mode": {
    "name": "ipython",
    "version": 3
   },
   "file_extension": ".py",
   "mimetype": "text/x-python",
   "name": "python",
   "nbconvert_exporter": "python",
   "pygments_lexer": "ipython3",
   "version": "3.9.13"
  }
 },
 "nbformat": 4,
 "nbformat_minor": 4
}
