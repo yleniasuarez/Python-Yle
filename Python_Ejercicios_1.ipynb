{
 "cells": [
  {
   "cell_type": "markdown",
   "id": "d9066d9d-2beb-41c1-860d-de95b5ffd7e3",
   "metadata": {},
   "source": [
    "# PYTHON EJERCICIOS"
   ]
  },
  {
   "cell_type": "markdown",
   "id": "80a1fe6e-e9e1-4d10-a7f8-4b1d64286a60",
   "metadata": {},
   "source": [
    "## Ejercicio 1\n",
    "\n",
    "Una juguetería tiene mucho éxito en dos de sus productos: payasos y muñecas. Suele hacer venta por correo y la empresa de logística les cobra por peso de cada paquete así que deben calcular el peso de los payasos y muñecas que saldrán en cada paquete a demanda. Cada payaso pesa 112 g y cada muñeca 75 g. Escribir un programa que lea el número de payasos y muñecas vendidos en el último pedido y calcule el peso total del paquete que será enviado."
   ]
  },
  {
   "cell_type": "code",
   "execution_count": null,
   "id": "477f0f95-21f7-4598-8bbc-e697c3d3f5a1",
   "metadata": {},
   "outputs": [],
   "source": []
  },
  {
   "cell_type": "code",
   "execution_count": null,
   "id": "2b5b0441-9d28-49e9-8a00-271181c9ac52",
   "metadata": {},
   "outputs": [],
   "source": []
  },
  {
   "cell_type": "code",
   "execution_count": null,
   "id": "39a4e101-da00-4dea-beeb-f4119d6c27fc",
   "metadata": {},
   "outputs": [],
   "source": []
  },
  {
   "cell_type": "markdown",
   "id": "ac5a75c3-42db-4d32-9bef-3003d45914f6",
   "metadata": {},
   "source": [
    "## Ejercicio 2\n",
    "\n",
    "Escribir un programa que pregunte el correo electrónico del usuario en la consola y muestre por pantalla el usuario (la parte antes  de la arroba @) y el dominio (despues de la arroba @)\n",
    "\n",
    "PISTA: método split() de cadena"
   ]
  },
  {
   "cell_type": "code",
   "execution_count": null,
   "id": "de09c8a1-83c2-498d-9b2d-e074cda1ffa0",
   "metadata": {},
   "outputs": [],
   "source": []
  },
  {
   "cell_type": "code",
   "execution_count": null,
   "id": "ed58dd01-faac-4835-9d38-0b62a6357dbd",
   "metadata": {},
   "outputs": [],
   "source": []
  },
  {
   "cell_type": "code",
   "execution_count": null,
   "id": "bfaeed5f-59e6-45d8-b5c3-806c11682d5d",
   "metadata": {},
   "outputs": [],
   "source": []
  },
  {
   "cell_type": "markdown",
   "id": "354ce17c-9017-456a-af0d-303113604b3a",
   "metadata": {},
   "source": [
    "## Ejercicio 3\n",
    "\n",
    "Escribir un programa que pregunte el nombre completo del usuario en la consola y después muestre por pantalla el nombre completo del usuario tres veces, una con todas las letras minúsculas, otra con todas las letras mayúsculas y otra solo con la primera letra del nombre y de los apellidos en mayúscula. El usuario puede introducir su nombre combinando mayúsculas y minúsculas como quiera.\n",
    "PISTA: para el último caso convertid la cadena en lista (split()) y buscad el método de cadena (capitalize()) "
   ]
  },
  {
   "cell_type": "code",
   "execution_count": null,
   "id": "bdfc5be1-b1e6-4f41-8eda-2babff240b23",
   "metadata": {},
   "outputs": [],
   "source": []
  },
  {
   "cell_type": "code",
   "execution_count": null,
   "id": "9080556b-a69d-4308-9f7e-4d3f2eeb1145",
   "metadata": {},
   "outputs": [],
   "source": []
  },
  {
   "cell_type": "code",
   "execution_count": null,
   "id": "6a51b5e9-fde0-4610-9c6d-a447fdacf33d",
   "metadata": {},
   "outputs": [],
   "source": []
  },
  {
   "cell_type": "markdown",
   "id": "bdacc1a1-c2ab-45c0-a692-ce87eaf56e38",
   "metadata": {},
   "source": [
    "## Ejercicio 4\n",
    "\n",
    "Escribir un programa que pida al usuario dos números y muestre por pantalla su división. Si el divisor es cero el programa debe mostrar un error."
   ]
  },
  {
   "cell_type": "code",
   "execution_count": null,
   "id": "31be8ec8-bbc4-44f2-a1a7-fbc23451a3d1",
   "metadata": {},
   "outputs": [],
   "source": []
  },
  {
   "cell_type": "code",
   "execution_count": null,
   "id": "6b43d616-f777-4b19-b4a9-096281c8657a",
   "metadata": {},
   "outputs": [],
   "source": []
  },
  {
   "cell_type": "code",
   "execution_count": null,
   "id": "3113edb6-eaed-442f-bf71-a033523c0790",
   "metadata": {},
   "outputs": [],
   "source": []
  },
  {
   "cell_type": "markdown",
   "id": "4e26ac04-033e-46a3-a574-9734136788fb",
   "metadata": {},
   "source": [
    "## Ejercicio 5 \n",
    "\n",
    "Escribir un programa que pida al usuario un número entero y muestre por pantalla si es par o impar."
   ]
  },
  {
   "cell_type": "code",
   "execution_count": null,
   "id": "7c2d8abb-dfaf-441e-ac06-1000b92ea360",
   "metadata": {},
   "outputs": [],
   "source": []
  },
  {
   "cell_type": "code",
   "execution_count": null,
   "id": "6d63d407-a756-48e5-96f8-6fcc404714c9",
   "metadata": {},
   "outputs": [],
   "source": []
  },
  {
   "cell_type": "code",
   "execution_count": null,
   "id": "7a10bfd3-dae9-4cb7-954b-1276550014dc",
   "metadata": {},
   "outputs": [],
   "source": []
  },
  {
   "cell_type": "markdown",
   "id": "f5f77563-50c8-442f-bc32-0fe779a30d25",
   "metadata": {},
   "source": [
    "## Ejercicio 6\n",
    "\n",
    "Escribir un programa que pida al usuario un número entero positivo y muestre por pantalla todos los números impares desde 1 hasta ese número, un nº por fila"
   ]
  },
  {
   "cell_type": "code",
   "execution_count": null,
   "id": "6edb63a1-0c9c-4648-ae42-2ab684eaad35",
   "metadata": {},
   "outputs": [],
   "source": []
  },
  {
   "cell_type": "code",
   "execution_count": null,
   "id": "7e12c882-49f8-4eca-b403-c1794f0d08ef",
   "metadata": {},
   "outputs": [],
   "source": []
  },
  {
   "cell_type": "code",
   "execution_count": null,
   "id": "d343bc3c-45f9-4f67-abc3-2607dd3ecc73",
   "metadata": {},
   "outputs": [],
   "source": []
  },
  {
   "cell_type": "markdown",
   "id": "6ea2f029-8e33-4055-9a57-ea407d50b958",
   "metadata": {},
   "source": [
    "## Ejercicio 7\n",
    "\n",
    "Escribir un programa que muestre el eco de todo lo que el usuario introduzca hasta que el usuario escriba “salir” que terminará."
   ]
  },
  {
   "cell_type": "code",
   "execution_count": null,
   "id": "07a11401-bf0a-443c-b850-b729c37ed6ac",
   "metadata": {},
   "outputs": [],
   "source": []
  },
  {
   "cell_type": "code",
   "execution_count": null,
   "id": "65a4d2b6-a6fc-46e1-8ec5-251d3013fa84",
   "metadata": {},
   "outputs": [],
   "source": []
  },
  {
   "cell_type": "code",
   "execution_count": null,
   "id": "ea551ea7-ac9f-4156-8811-10dde4ef033f",
   "metadata": {},
   "outputs": [],
   "source": []
  },
  {
   "cell_type": "markdown",
   "id": "376b0a32-e91e-41dd-bfc2-ae7a67f1378b",
   "metadata": {},
   "source": [
    "## Ejercicio 8\n",
    "\n",
    "Escribe una función que acepte productos de supermercado introducidos por teclado y los guarde en una lista. La lista terminará cuando se introduzca \"salir\".\n",
    "\n",
    "Por último muestra por pantalla los productos de la lista, uno por línea."
   ]
  },
  {
   "cell_type": "code",
   "execution_count": null,
   "id": "536a4f98-977c-4faf-8cc0-1ea8e9d6e6e2",
   "metadata": {},
   "outputs": [],
   "source": []
  },
  {
   "cell_type": "code",
   "execution_count": null,
   "id": "38f9405c-a4e5-47f7-a335-12d43645fd87",
   "metadata": {},
   "outputs": [],
   "source": []
  },
  {
   "cell_type": "code",
   "execution_count": null,
   "id": "e814919a-5b8e-4465-acf6-b5ceb662790f",
   "metadata": {},
   "outputs": [],
   "source": []
  },
  {
   "cell_type": "markdown",
   "id": "6c104188-fe33-45d0-b31e-7247111c319b",
   "metadata": {},
   "source": [
    "## Ejercicio 9\n",
    "\n",
    "Los tramos impositivos para la declaración de la renta en un determinado país son los siguientes:\n",
    "\n",
    "**Renta\t     Tipo impositivo**\n",
    "\n",
    "Menos de 10000€:\t     5%\n",
    "\n",
    "Entre 10000€ y 20000€:\t     15%\n",
    "\n",
    "Entre 20000€ y 35000€:\t     20%\n",
    "\n",
    "Entre 35000€ y 60000€:\t     30%\n",
    "\n",
    "Más de 60000€:\t     45%\n",
    "\n",
    "\n",
    "Escribir una función que pida como entrada la renta anual del usuario y DEVUELVA el tipo impositivo que le corresponde."
   ]
  },
  {
   "cell_type": "code",
   "execution_count": null,
   "id": "5b0b7aed-9a32-4779-b5e9-0a8d6e122f57",
   "metadata": {},
   "outputs": [],
   "source": []
  },
  {
   "cell_type": "code",
   "execution_count": null,
   "id": "298d4bab-aa9a-48d1-9536-185a24af4b6a",
   "metadata": {},
   "outputs": [],
   "source": []
  },
  {
   "cell_type": "code",
   "execution_count": null,
   "id": "df4f887a-dacf-4eef-af11-c875fae8d6d7",
   "metadata": {},
   "outputs": [],
   "source": []
  },
  {
   "cell_type": "markdown",
   "id": "f6965345-a9b6-4161-9cf7-67507556baf3",
   "metadata": {},
   "source": [
    "## Ejercicio 10\n",
    "\n",
    "Con la misma tabla del ejercicio anterior:\n",
    "\n",
    "a) Crea un diccionario cuyas claves sean \"Tramo1\", \"Tramo2\", \"Tramo3\" ... etc. El valor será el tipo impositivo (solo él número)\n",
    "\n",
    "b) Crea una función al que le pases el diccionario anterior y el tramo como cadena (mismo formato que las claves del diccionario). La función ha de devolver el tipo impositivo correspondiente del tramo."
   ]
  },
  {
   "cell_type": "code",
   "execution_count": null,
   "id": "1781ffea-21e4-4255-93da-d9c4ae28d557",
   "metadata": {},
   "outputs": [],
   "source": []
  },
  {
   "cell_type": "code",
   "execution_count": null,
   "id": "b034c3e8-f0e9-4c7e-84fc-4d19e7a2e424",
   "metadata": {},
   "outputs": [],
   "source": []
  },
  {
   "cell_type": "code",
   "execution_count": null,
   "id": "47ea469f-9069-4090-a094-b8824a1f3d56",
   "metadata": {},
   "outputs": [],
   "source": []
  },
  {
   "cell_type": "code",
   "execution_count": null,
   "id": "db172c0c-8022-44bb-a861-fc97e9f25326",
   "metadata": {},
   "outputs": [],
   "source": []
  }
 ],
 "metadata": {
  "kernelspec": {
   "display_name": "Python 3 (ipykernel)",
   "language": "python",
   "name": "python3"
  },
  "language_info": {
   "codemirror_mode": {
    "name": "ipython",
    "version": 3
   },
   "file_extension": ".py",
   "mimetype": "text/x-python",
   "name": "python",
   "nbconvert_exporter": "python",
   "pygments_lexer": "ipython3",
   "version": "3.9.13"
  }
 },
 "nbformat": 4,
 "nbformat_minor": 5
}
