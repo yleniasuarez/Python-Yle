{
 "cells": [
  {
   "cell_type": "markdown",
   "id": "90d52308",
   "metadata": {},
   "source": [
    "\n",
    "# 01 · Análisis de clientes (actividad guiada)\n",
    "\n",
    "Este notebook te guía paso a paso para analizar el archivo `datos_clientes.csv`.\n",
    "Sigue la estructura propuesta en clase: **cargar datos → explorar → visualizar → resumir → guardar resultados**.\n"
   ]
  },
  {
   "cell_type": "markdown",
   "id": "b69792b1",
   "metadata": {},
   "source": [
    "\n",
    "## 0. Preparación\n",
    "\n",
    "- Asegúrate de tener el archivo CSV en `../data/raw/datos_clientes.csv`.\n",
    "- Activa el entorno del proyecto antes de abrir el notebook.\n",
    "- No olvides seleccionar el **kernel** correcto en Jupyter (el del entorno que creaste).\n"
   ]
  },
  {
   "cell_type": "code",
   "execution_count": null,
   "id": "0ea034f7",
   "metadata": {},
   "outputs": [],
   "source": [
    "\n",
    "import pandas as pd\n",
    "import matplotlib.pyplot as plt\n",
    "\n",
    "# Mostrar números con dos decimales al imprimir dataframes\n",
    "pd.options.display.float_format = '{:,.2f}'.format\n"
   ]
  },
  {
   "cell_type": "markdown",
   "id": "6d232270",
   "metadata": {},
   "source": [
    "## 1. Carga de datos"
   ]
  },
  {
   "cell_type": "code",
   "execution_count": null,
   "id": "7443c59a",
   "metadata": {},
   "outputs": [],
   "source": [
    "\n",
    "# Ruta relativa desde /notebooks/ hacia /data/raw/\n",
    "csv_path = \"../data/raw/datos_clientes.csv\"\n",
    "\n",
    "# Cargar datos\n",
    "df = pd.read_csv(csv_path)\n",
    "df.head()\n"
   ]
  },
  {
   "cell_type": "markdown",
   "id": "90739a29",
   "metadata": {},
   "source": [
    "## 2. Inspección inicial"
   ]
  },
  {
   "cell_type": "code",
   "execution_count": null,
   "id": "f94fda12",
   "metadata": {},
   "outputs": [],
   "source": [
    "\n",
    "# Estructura del DataFrame\n",
    "df.info()\n"
   ]
  },
  {
   "cell_type": "code",
   "execution_count": null,
   "id": "8b5a15ba",
   "metadata": {},
   "outputs": [],
   "source": [
    "\n",
    "# Estadísticos descriptivos de columnas numéricas\n",
    "df.describe()\n"
   ]
  },
  {
   "cell_type": "code",
   "execution_count": null,
   "id": "2b6ad40a",
   "metadata": {},
   "outputs": [],
   "source": [
    "\n",
    "# Comprobar valores nulos\n",
    "df.isnull().sum()\n"
   ]
  },
  {
   "cell_type": "markdown",
   "id": "a766dc0c",
   "metadata": {},
   "source": [
    "\n",
    "## 3. Limpieza mínima (opcional)\n",
    "\n",
    "En este dataset no hay valores nulos, pero dejamos el bloque para que sepas cómo actuar si los hubiera.\n"
   ]
  },
  {
   "cell_type": "code",
   "execution_count": null,
   "id": "824826fe",
   "metadata": {},
   "outputs": [],
   "source": [
    "\n",
    "# (Ejemplo) Convertir tipos si fuera necesario:\n",
    "# df['edad'] = pd.to_numeric(df['edad'], errors='coerce')\n",
    "# df['importe_compra'] = pd.to_numeric(df['importe_compra'], errors='coerce')\n",
    "\n",
    "# (Ejemplo) Rellenar nulos o eliminarlos:\n",
    "# df = df.dropna(subset=['edad', 'importe_compra'])\n"
   ]
  },
  {
   "cell_type": "markdown",
   "id": "1cae2dc6",
   "metadata": {},
   "source": [
    "## 4. Análisis rápido"
   ]
  },
  {
   "cell_type": "code",
   "execution_count": null,
   "id": "81ab1b6c",
   "metadata": {},
   "outputs": [],
   "source": [
    "\n",
    "# Promedios globales\n",
    "promedio_importe = df['importe_compra'].mean()\n",
    "promedio_frecuencia = df['frecuencia_compras'].mean()\n",
    "promedio_importe, promedio_frecuencia\n"
   ]
  },
  {
   "cell_type": "code",
   "execution_count": null,
   "id": "35fd94ff",
   "metadata": {},
   "outputs": [],
   "source": [
    "\n",
    "# Clientes por ciudad (conteo)\n",
    "df['ciudad'].value_counts()\n"
   ]
  },
  {
   "cell_type": "code",
   "execution_count": null,
   "id": "1bcfc6a8",
   "metadata": {},
   "outputs": [],
   "source": [
    "\n",
    "# Importe medio por ciudad\n",
    "df.groupby('ciudad')['importe_compra'].mean().sort_values(ascending=False)\n"
   ]
  },
  {
   "cell_type": "markdown",
   "id": "4d6113b8",
   "metadata": {},
   "source": [
    "## 5. Visualización"
   ]
  },
  {
   "cell_type": "code",
   "execution_count": null,
   "id": "e8a3b5b8",
   "metadata": {},
   "outputs": [],
   "source": [
    "\n",
    "# Dispersión: edad vs importe\n",
    "plt.figure()\n",
    "plt.scatter(df['edad'], df['importe_compra'])\n",
    "plt.title('Relación entre edad e importe de compra')\n",
    "plt.xlabel('Edad')\n",
    "plt.ylabel('Importe (€)')\n",
    "plt.grid(True)\n",
    "plt.show()\n"
   ]
  },
  {
   "cell_type": "code",
   "execution_count": null,
   "id": "91e9c92f",
   "metadata": {},
   "outputs": [],
   "source": [
    "\n",
    "# Histograma de importes\n",
    "plt.figure()\n",
    "df['importe_compra'].hist(bins=8)\n",
    "plt.title('Distribución del importe de compra')\n",
    "plt.xlabel('Importe (€)')\n",
    "plt.ylabel('Frecuencia')\n",
    "plt.grid(False)\n",
    "plt.show()\n"
   ]
  },
  {
   "cell_type": "markdown",
   "id": "1478200e",
   "metadata": {},
   "source": [
    "## 6. Crear y guardar resultados procesados"
   ]
  },
  {
   "cell_type": "code",
   "execution_count": null,
   "id": "656cc596",
   "metadata": {},
   "outputs": [],
   "source": [
    "\n",
    "# Crear un resumen por ciudad\n",
    "resumen_ciudades = df.groupby('ciudad')[['importe_compra','frecuencia_compras']].mean().round(2)\n",
    "resumen_ciudades\n"
   ]
  },
  {
   "cell_type": "code",
   "execution_count": null,
   "id": "2c4411fb",
   "metadata": {},
   "outputs": [],
   "source": [
    "\n",
    "# Guardar el resumen en data/processed/\n",
    "output_path = '../data/processed/resumen_ciudades.csv'\n",
    "resumen_ciudades.to_csv(output_path, index=True)\n",
    "output_path\n"
   ]
  },
  {
   "cell_type": "markdown",
   "id": "00d6fce5",
   "metadata": {},
   "source": [
    "\n",
    "## 7. Conclusiones (rellena tú)\n",
    "- ¿Qué ciudades muestran mayor gasto medio?\n",
    "- ¿Observas relación aparente entre edad e importe?\n",
    "- ¿Qué hipótesis te gustaría comprobar con más datos?\n"
   ]
  },
  {
   "cell_type": "markdown",
   "id": "d33d2c6e",
   "metadata": {},
   "source": [
    "\n",
    "---\n",
    "\n",
    "### 🧰 Consejos rápidos\n",
    "- Si Jupyter no encuentra el archivo, revisa las **rutas relativas** y la **estructura de carpetas**.\n",
    "- Si aparece `ModuleNotFoundError`, confirma que estás usando el **kernel** del entorno del proyecto.\n",
    "- Exporta el notebook a HTML al finalizar (menú `File → Save and Export Notebook As → HTML`).\n"
   ]
  }
 ],
 "metadata": {},
 "nbformat": 4,
 "nbformat_minor": 5
}