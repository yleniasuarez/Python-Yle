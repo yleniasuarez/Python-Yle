{
  "nbformat": 4,
  "nbformat_minor": 0,
  "metadata": {
    "colab": {
      "provenance": [],
      "toc_visible": true
    },
    "kernelspec": {
      "name": "python3",
      "display_name": "Python 3"
    },
    "language_info": {
      "name": "python"
    }
  },
  "cells": [
    {
      "cell_type": "markdown",
      "source": [
        "# Importación de librerias"
      ],
      "metadata": {
        "id": "EJpC8yka8NjW"
      }
    },
    {
      "cell_type": "code",
      "execution_count": 1,
      "metadata": {
        "colab": {
          "base_uri": "https://localhost:8080/"
        },
        "id": "alEKVcuC33s4",
        "outputId": "2ace3417-6bec-4205-973a-88e422363a8f"
      },
      "outputs": [
        {
          "output_type": "stream",
          "name": "stdout",
          "text": [
            "Mounted at /content/drive\n"
          ]
        }
      ],
      "source": [
        "import pandas as pd\n",
        "from google.colab import drive\n",
        "drive.mount('/content/drive')"
      ]
    },
    {
      "cell_type": "markdown",
      "source": [
        "# Carga de datos y previsualización"
      ],
      "metadata": {
        "id": "f5KTJqxJ8Slk"
      }
    },
    {
      "cell_type": "code",
      "source": [
        "ruta = '/content/drive/MyDrive/clientes_sucios_grande.csv'\n",
        "datos = pd.read_csv(ruta)\n",
        "print(datos.head())\n",
        "print(datos.info())"
      ],
      "metadata": {
        "colab": {
          "base_uri": "https://localhost:8080/"
        },
        "id": "i4Q4MSF07oMF",
        "outputId": "50feeab0-8143-4c42-a642-fddcbecf8c96"
      },
      "execution_count": 3,
      "outputs": [
        {
          "output_type": "stream",
          "name": "stdout",
          "text": [
            "  Nombre  Edad     Ciudad  Ingresos Estado Civil\n",
            "0   Juan  19.0  Barcelona       NaN       Casado\n",
            "1  Elena   NaN     Madrid    1244.0        Viudo\n",
            "2  Marta  50.0        NaN       NaN   Divorciada\n",
            "3  Marta   NaN     Madrid    7216.0   Divorciada\n",
            "4  Laura  35.0     Bilbao    1837.0   Divorciada\n",
            "<class 'pandas.core.frame.DataFrame'>\n",
            "RangeIndex: 100 entries, 0 to 99\n",
            "Data columns (total 5 columns):\n",
            " #   Column        Non-Null Count  Dtype  \n",
            "---  ------        --------------  -----  \n",
            " 0   Nombre        100 non-null    object \n",
            " 1   Edad          70 non-null     float64\n",
            " 2   Ciudad        86 non-null     object \n",
            " 3   Ingresos      32 non-null     float64\n",
            " 4   Estado Civil  88 non-null     object \n",
            "dtypes: float64(2), object(3)\n",
            "memory usage: 4.0+ KB\n",
            "None\n"
          ]
        }
      ]
    },
    {
      "cell_type": "markdown",
      "source": [
        "# Limpieza"
      ],
      "metadata": {
        "id": "GugZwTug8cwd"
      }
    },
    {
      "cell_type": "code",
      "source": [
        "datos = datos.drop_duplicates()\n",
        "datos[\"Edad\"].fillna(datos[\"Edad\"].mean(), inplace=True)\n",
        "datos[\"Ingresos\"].fillna(datos[\"Ingresos\"].mean(), inplace=True)\n",
        "datos[\"Estado Civil\"].fillna(\"Desconocido\", inplace=True)"
      ],
      "metadata": {
        "colab": {
          "base_uri": "https://localhost:8080/"
        },
        "id": "m2JDM58m7evE",
        "outputId": "38e42d2c-47e7-4db0-845c-93e9bf1ce05a"
      },
      "execution_count": 4,
      "outputs": [
        {
          "output_type": "stream",
          "name": "stderr",
          "text": [
            "/tmp/ipython-input-606215050.py:2: FutureWarning: A value is trying to be set on a copy of a DataFrame or Series through chained assignment using an inplace method.\n",
            "The behavior will change in pandas 3.0. This inplace method will never work because the intermediate object on which we are setting values always behaves as a copy.\n",
            "\n",
            "For example, when doing 'df[col].method(value, inplace=True)', try using 'df.method({col: value}, inplace=True)' or df[col] = df[col].method(value) instead, to perform the operation inplace on the original object.\n",
            "\n",
            "\n",
            "  datos[\"Edad\"].fillna(datos[\"Edad\"].mean(), inplace=True)\n",
            "/tmp/ipython-input-606215050.py:3: FutureWarning: A value is trying to be set on a copy of a DataFrame or Series through chained assignment using an inplace method.\n",
            "The behavior will change in pandas 3.0. This inplace method will never work because the intermediate object on which we are setting values always behaves as a copy.\n",
            "\n",
            "For example, when doing 'df[col].method(value, inplace=True)', try using 'df.method({col: value}, inplace=True)' or df[col] = df[col].method(value) instead, to perform the operation inplace on the original object.\n",
            "\n",
            "\n",
            "  datos[\"Ingresos\"].fillna(datos[\"Ingresos\"].mean(), inplace=True)\n",
            "/tmp/ipython-input-606215050.py:4: FutureWarning: A value is trying to be set on a copy of a DataFrame or Series through chained assignment using an inplace method.\n",
            "The behavior will change in pandas 3.0. This inplace method will never work because the intermediate object on which we are setting values always behaves as a copy.\n",
            "\n",
            "For example, when doing 'df[col].method(value, inplace=True)', try using 'df.method({col: value}, inplace=True)' or df[col] = df[col].method(value) instead, to perform the operation inplace on the original object.\n",
            "\n",
            "\n",
            "  datos[\"Estado Civil\"].fillna(\"Desconocido\", inplace=True)\n"
          ]
        }
      ]
    },
    {
      "cell_type": "markdown",
      "source": [
        "# Enriquecimiento"
      ],
      "metadata": {
        "id": "xjMSjso2-p_1"
      }
    },
    {
      "cell_type": "code",
      "source": [
        "# Creamos una nueva columna llamada \"Nivel_Ingreso\"\n",
        "datos[\"Nivel_Ingreso\"] = pd.cut(\n",
        "    datos[\"Ingresos\"],\n",
        "    bins=[0,2000,4000,6000],\n",
        "    labels=[\"Bajo\",\"Medio\",\"Alto\"]\n",
        ")"
      ],
      "metadata": {
        "id": "wU6zeRvY-uXk"
      },
      "execution_count": 5,
      "outputs": []
    },
    {
      "cell_type": "markdown",
      "source": [
        "# Preprocesamiento"
      ],
      "metadata": {
        "id": "oSYjgaxA_R98"
      }
    },
    {
      "cell_type": "code",
      "source": [
        "# Normalizamos ingresos entre 0 y 1.\n",
        "from sklearn.preprocessing import MinMaxScaler\n",
        "scaler = MinMaxScaler()\n",
        "datos[[\"Ingresos\"]] = scaler.fit_transform(datos[[\"Ingresos\"]])\n",
        "# Codificamos ciudad (One-Hot Encoding)\n",
        "datos = pd.get_dummies(datos, columns=[\"Ciudad\"])\n"
      ],
      "metadata": {
        "id": "X24XAsKV_Wgc"
      },
      "execution_count": 6,
      "outputs": []
    },
    {
      "cell_type": "markdown",
      "source": [
        "# Guardado de datos"
      ],
      "metadata": {
        "id": "eSXtTiIxAZsl"
      }
    },
    {
      "cell_type": "code",
      "source": [
        "datos.to_csv(\"clientes_limpios.csv\", index = False)"
      ],
      "metadata": {
        "id": "yez0mL_HAg-M"
      },
      "execution_count": 7,
      "outputs": []
    },
    {
      "cell_type": "markdown",
      "source": [
        "# Comparación de datos"
      ],
      "metadata": {
        "id": "Sw4N80PqAvCs"
      }
    },
    {
      "cell_type": "code",
      "source": [
        "# 1. Carga de archivos\n",
        "sucio = pd.read_csv(\"/content/drive/MyDrive/clientes_sucios_grande.csv\")\n",
        "limpio = pd.read_csv('clientes_limpios.csv')\n",
        "\n",
        "# 2. Mostrar estructura general\n",
        "print(\"🔹 Columnas en archivo sucio:\", sucio.columns.tolist())\n",
        "print(\"🔹 Columnas en archivo limpio:\", limpio.columns.tolist())\n",
        "print(\"\\n🔸 Tipos de datos (sucio):\\n\", sucio.dtypes)\n",
        "print(\"\\n🔸 Tipos de datos (limpio):\\n\", limpio.dtypes)\n",
        "\n",
        "# 3. Comparar número de filas y columnas\n",
        "print(f\"\\n📊 Dimensiones - Sucio: {sucio.shape}, Limpio: {limpio.shape}\")\n",
        "\n",
        "# 4. Comparar valores nulos\n",
        "print(\"\\n🧼 Valores nulos por columna (sucio):\\n\", sucio.isnull().sum())\n",
        "print(\"\\n✅ Valores nulos por columna (limpio):\\n\", limpio.isnull().sum())\n",
        "\n",
        "# 5. Estadísticas descriptivas\n",
        "print(\"\\n📈 Estadísticas descriptivas (sucio):\\n\", sucio.describe(include='all'))\n",
        "print(\"\\n📈 Estadísticas descriptivas (limpio):\\n\", limpio.describe(include='all'))\n",
        "\n",
        "# 6. Ver filas duplicadas en el dataset sucio\n",
        "duplicados = sucio[sucio.duplicated()]\n",
        "print(f\"\\n📎 Filas duplicadas en sucio: {len(duplicados)}\")\n",
        "\n",
        "# 7. Filas que están en sucio y ya no están en limpio (posiblemente eliminadas)\n",
        "diferencia = pd.concat([sucio, limpio]).drop_duplicates(keep=False)\n",
        "print(f\"\\n🧐 Filas diferentes entre ambos archivos: {len(diferencia)}\")\n",
        "print(diferencia.head())\n",
        "\n",
        "# 8. Comparar directamente fila por fila (si tienen mismo orden e índices)\n",
        "if sucio.shape == limpio.shape:\n",
        "    diferencias_elemento = (sucio != limpio).sum()\n",
        "    print(\"\\n🔍 Diferencias por columna (elemento por elemento):\\n\", diferencias_elemento)\n",
        "else:\n",
        "    print(\"\\n❗Los archivos tienen diferente número de filas/columnas. Comparación directa no es posible.\")\n",
        "\n",
        "# 9. Comparar columnas faltantes o añadidas\n",
        "columnas_sucio = set(sucio.columns)\n",
        "columnas_limpio = set(limpio.columns)\n",
        "print(\"\\n➖ Columnas que están en sucio y no en limpio:\", columnas_sucio - columnas_limpio)\n",
        "print(\"➕ Columnas que están en limpio y no en sucio:\", columnas_limpio - columnas_sucio)\n"
      ],
      "metadata": {
        "colab": {
          "base_uri": "https://localhost:8080/"
        },
        "id": "WFkZARvYBYBs",
        "outputId": "363a3a20-30d0-4f58-a111-e221c0d5ffaa"
      },
      "execution_count": 8,
      "outputs": [
        {
          "output_type": "stream",
          "name": "stdout",
          "text": [
            "🔹 Columnas en archivo sucio: ['Nombre', 'Edad', 'Ciudad', 'Ingresos', 'Estado Civil']\n",
            "🔹 Columnas en archivo limpio: ['Nombre', 'Edad', 'Ingresos', 'Estado Civil', 'Nivel_Ingreso', 'Ciudad_Barcelona', 'Ciudad_Bilbao', 'Ciudad_Granada', 'Ciudad_Madrid', 'Ciudad_Málaga', 'Ciudad_Sevilla', 'Ciudad_Sevilla ', 'Ciudad_Valencia', 'Ciudad_Zaragoza', 'Ciudad_madrid']\n",
            "\n",
            "🔸 Tipos de datos (sucio):\n",
            " Nombre           object\n",
            "Edad            float64\n",
            "Ciudad           object\n",
            "Ingresos        float64\n",
            "Estado Civil     object\n",
            "dtype: object\n",
            "\n",
            "🔸 Tipos de datos (limpio):\n",
            " Nombre               object\n",
            "Edad                float64\n",
            "Ingresos            float64\n",
            "Estado Civil         object\n",
            "Nivel_Ingreso        object\n",
            "Ciudad_Barcelona       bool\n",
            "Ciudad_Bilbao          bool\n",
            "Ciudad_Granada         bool\n",
            "Ciudad_Madrid          bool\n",
            "Ciudad_Málaga          bool\n",
            "Ciudad_Sevilla         bool\n",
            "Ciudad_Sevilla         bool\n",
            "Ciudad_Valencia        bool\n",
            "Ciudad_Zaragoza        bool\n",
            "Ciudad_madrid          bool\n",
            "dtype: object\n",
            "\n",
            "📊 Dimensiones - Sucio: (100, 5), Limpio: (100, 15)\n",
            "\n",
            "🧼 Valores nulos por columna (sucio):\n",
            " Nombre           0\n",
            "Edad            30\n",
            "Ciudad          14\n",
            "Ingresos        68\n",
            "Estado Civil    12\n",
            "dtype: int64\n",
            "\n",
            "✅ Valores nulos por columna (limpio):\n",
            " Nombre              0\n",
            "Edad                0\n",
            "Ingresos            0\n",
            "Estado Civil        0\n",
            "Nivel_Ingreso       9\n",
            "Ciudad_Barcelona    0\n",
            "Ciudad_Bilbao       0\n",
            "Ciudad_Granada      0\n",
            "Ciudad_Madrid       0\n",
            "Ciudad_Málaga       0\n",
            "Ciudad_Sevilla      0\n",
            "Ciudad_Sevilla      0\n",
            "Ciudad_Valencia     0\n",
            "Ciudad_Zaragoza     0\n",
            "Ciudad_madrid       0\n",
            "dtype: int64\n",
            "\n",
            "📈 Estadísticas descriptivas (sucio):\n",
            "        Nombre       Edad  Ciudad     Ingresos Estado Civil\n",
            "count     100  70.000000      86    32.000000           88\n",
            "unique     20        NaN      10          NaN            7\n",
            "top     Marta        NaN  Málaga          NaN        Viudo\n",
            "freq       12        NaN      13          NaN           16\n",
            "mean      NaN  20.814286     NaN  4633.531250          NaN\n",
            "std       NaN  24.257252     NaN  2168.143713          NaN\n",
            "min       NaN  -5.000000     NaN  1244.000000          NaN\n",
            "25%       NaN  -2.000000     NaN  2831.000000          NaN\n",
            "50%       NaN  22.000000     NaN  4392.500000          NaN\n",
            "75%       NaN  43.750000     NaN  6807.500000          NaN\n",
            "max       NaN  63.000000     NaN  7977.000000          NaN\n",
            "\n",
            "📈 Estadísticas descriptivas (limpio):\n",
            "        Nombre        Edad    Ingresos Estado Civil Nivel_Ingreso  \\\n",
            "count     100  100.000000  100.000000          100            91   \n",
            "unique     20         NaN         NaN            8             3   \n",
            "top     Marta         NaN         NaN        Viudo          Alto   \n",
            "freq       12         NaN         NaN           16            76   \n",
            "mean      NaN   20.814286    0.503421          NaN           NaN   \n",
            "std       NaN   20.251097    0.180195          NaN           NaN   \n",
            "min       NaN   -5.000000    0.000000          NaN           NaN   \n",
            "25%       NaN   -2.000000    0.503421          NaN           NaN   \n",
            "50%       NaN   20.814286    0.503421          NaN           NaN   \n",
            "75%       NaN   35.250000    0.503421          NaN           NaN   \n",
            "max       NaN   63.000000    1.000000          NaN           NaN   \n",
            "\n",
            "       Ciudad_Barcelona Ciudad_Bilbao Ciudad_Granada Ciudad_Madrid  \\\n",
            "count               100           100            100           100   \n",
            "unique                2             2              2             2   \n",
            "top               False         False          False         False   \n",
            "freq                 94            91             96            93   \n",
            "mean                NaN           NaN            NaN           NaN   \n",
            "std                 NaN           NaN            NaN           NaN   \n",
            "min                 NaN           NaN            NaN           NaN   \n",
            "25%                 NaN           NaN            NaN           NaN   \n",
            "50%                 NaN           NaN            NaN           NaN   \n",
            "75%                 NaN           NaN            NaN           NaN   \n",
            "max                 NaN           NaN            NaN           NaN   \n",
            "\n",
            "       Ciudad_Málaga Ciudad_Sevilla Ciudad_Sevilla  Ciudad_Valencia  \\\n",
            "count            100            100             100             100   \n",
            "unique             2              2               2               2   \n",
            "top            False          False           False           False   \n",
            "freq              87             93              91              91   \n",
            "mean             NaN            NaN             NaN             NaN   \n",
            "std              NaN            NaN             NaN             NaN   \n",
            "min              NaN            NaN             NaN             NaN   \n",
            "25%              NaN            NaN             NaN             NaN   \n",
            "50%              NaN            NaN             NaN             NaN   \n",
            "75%              NaN            NaN             NaN             NaN   \n",
            "max              NaN            NaN             NaN             NaN   \n",
            "\n",
            "       Ciudad_Zaragoza Ciudad_madrid  \n",
            "count              100           100  \n",
            "unique               2             2  \n",
            "top              False         False  \n",
            "freq                89            89  \n",
            "mean               NaN           NaN  \n",
            "std                NaN           NaN  \n",
            "min                NaN           NaN  \n",
            "25%                NaN           NaN  \n",
            "50%                NaN           NaN  \n",
            "75%                NaN           NaN  \n",
            "max                NaN           NaN  \n",
            "\n",
            "📎 Filas duplicadas en sucio: 0\n",
            "\n",
            "🧐 Filas diferentes entre ambos archivos: 200\n",
            "  Nombre  Edad     Ciudad  Ingresos Estado Civil Nivel_Ingreso  \\\n",
            "0   Juan  19.0  Barcelona       NaN       Casado           NaN   \n",
            "1  Elena   NaN     Madrid    1244.0        Viudo           NaN   \n",
            "2  Marta  50.0        NaN       NaN   Divorciada           NaN   \n",
            "3  Marta   NaN     Madrid    7216.0   Divorciada           NaN   \n",
            "4  Laura  35.0     Bilbao    1837.0   Divorciada           NaN   \n",
            "\n",
            "  Ciudad_Barcelona Ciudad_Bilbao Ciudad_Granada Ciudad_Madrid Ciudad_Málaga  \\\n",
            "0              NaN           NaN            NaN           NaN           NaN   \n",
            "1              NaN           NaN            NaN           NaN           NaN   \n",
            "2              NaN           NaN            NaN           NaN           NaN   \n",
            "3              NaN           NaN            NaN           NaN           NaN   \n",
            "4              NaN           NaN            NaN           NaN           NaN   \n",
            "\n",
            "  Ciudad_Sevilla Ciudad_Sevilla  Ciudad_Valencia Ciudad_Zaragoza Ciudad_madrid  \n",
            "0            NaN             NaN             NaN             NaN           NaN  \n",
            "1            NaN             NaN             NaN             NaN           NaN  \n",
            "2            NaN             NaN             NaN             NaN           NaN  \n",
            "3            NaN             NaN             NaN             NaN           NaN  \n",
            "4            NaN             NaN             NaN             NaN           NaN  \n",
            "\n",
            "❗Los archivos tienen diferente número de filas/columnas. Comparación directa no es posible.\n",
            "\n",
            "➖ Columnas que están en sucio y no en limpio: {'Ciudad'}\n",
            "➕ Columnas que están en limpio y no en sucio: {'Ciudad_Bilbao', 'Ciudad_Barcelona', 'Ciudad_Málaga', 'Ciudad_Sevilla', 'Ciudad_Madrid', 'Ciudad_Sevilla ', 'Ciudad_Valencia', 'Ciudad_Zaragoza', 'Nivel_Ingreso', 'Ciudad_Granada', 'Ciudad_madrid'}\n"
          ]
        }
      ]
    },
    {
      "cell_type": "code",
      "source": [
        "diferencia.to_csv(\"diferencias_detectadas.csv\", index=False)\n"
      ],
      "metadata": {
        "id": "OefxnGUTJNaD"
      },
      "execution_count": 9,
      "outputs": []
    }
  ]
}